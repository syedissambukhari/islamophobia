{
 "cells": [
  {
   "cell_type": "code",
   "execution_count": null,
   "id": "79d65b9e",
   "metadata": {},
   "outputs": [],
   "source": [
    "import cv2\n",
    "import pytesseract\n",
    "import numpy as np\n",
    "import openai\n",
    "\n",
    "# Set your OpenAI API key\n",
    "openai.api_key = 'YOUR_OPENAI_API_KEY'\n",
    "\n",
    "# Rest of the code for image classification and text classification (as provided in the previous responses)\n",
    "\n",
    "# Function to process real-time camera feed and perform image and text classification\n",
    "def classify_realtime_camera():\n",
    "    cap = cv2.VideoCapture(0)\n",
    "\n",
    "    while cap.isOpened():\n",
    "        ret, frame = cap.read()\n",
    "        if not ret:\n",
    "            break\n",
    "\n",
    "        # Perform image classification using CLIP\n",
    "        image_label = classify_image(frame, \"a text description\")\n",
    "\n",
    "        # Perform text classification using CLIP\n",
    "        text_label = classify_text(frame, \"a text description\")\n",
    "\n",
    "        # Perform nature classification using the loaded model\n",
    "        nature_label = classify_nature(frame)\n",
    "\n",
    "        # Draw the predicted labels on the frame\n",
    "        font = cv2.FONT_HERSHEY_SIMPLEX\n",
    "        cv2.putText(frame, \"Image Class: \" + image_label, (10, 30), font, 1, (255, 255, 255), 2, cv2.LINE_AA)\n",
    "        cv2.putText(frame, \"Text Class: \" + text_label, (10, 60), font, 1, (255, 255, 255), 2, cv2.LINE_AA)\n",
    "        cv2.putText(frame, \"Nature Class: \" + str(nature_label), (10, 90), font, 1, (255, 255, 255), 2, cv2.LINE_AA)\n",
    "\n",
    "        cv2.imshow('Real-time Classification', frame)\n",
    "\n",
    "        if cv2.waitKey(1) & 0xFF == ord('q'):\n",
    "            break\n",
    "\n",
    "    cap.release()\n",
    "    cv2.destroyAllWindows()\n",
    "\n",
    "# Example usage\n",
    "classify_realtime_camera()\n"
   ]
  }
 ],
 "metadata": {
  "kernelspec": {
   "display_name": "Python 3 (ipykernel)",
   "language": "python",
   "name": "python3"
  },
  "language_info": {
   "codemirror_mode": {
    "name": "ipython",
    "version": 3
   },
   "file_extension": ".py",
   "mimetype": "text/x-python",
   "name": "python",
   "nbconvert_exporter": "python",
   "pygments_lexer": "ipython3",
   "version": "3.10.9"
  }
 },
 "nbformat": 4,
 "nbformat_minor": 5
}
