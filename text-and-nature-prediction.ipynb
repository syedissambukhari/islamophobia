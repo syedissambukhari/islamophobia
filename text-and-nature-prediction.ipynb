{
 "cells": [
  {
   "cell_type": "code",
   "execution_count": 4,
   "id": "5397a711",
   "metadata": {},
   "outputs": [
    {
     "name": "stdout",
     "output_type": "stream",
     "text": [
      "1/1 [==============================] - 0s 136ms/step\n",
      "Predicted Text Class Label: 0\n",
      "Predicted Nature Class Label: 1\n",
      "Predicted Text Class: Non islamophobic text\n",
      "Predicted Nature Class: Non Islamophobic image\n"
     ]
    }
   ],
   "source": [
    "import os\n",
    "import cv2\n",
    "import pytesseract\n",
    "import numpy as np\n",
    "from sklearn.feature_extraction.text import TfidfVectorizer\n",
    "from sklearn.svm import SVC\n",
    "import joblib\n",
    "import tensorflow.keras as keras\n",
    "\n",
    "# Step 1: Load the Text Model\n",
    "text_model_file = 'text_model.pkl'\n",
    "text_model = joblib.load(text_model_file)\n",
    "\n",
    "# Step 2: Load the Nature Model\n",
    "nature_model_file = 'nature_model300.h5'\n",
    "nature_model = keras.models.load_model(nature_model_file)\n",
    "\n",
    "# Step 3: Function to extract text from an image\n",
    "def extract_text_from_image(image_path):\n",
    "    img = cv2.imread(image_path)\n",
    "    gray = cv2.cvtColor(img, cv2.COLOR_BGR2GRAY)\n",
    "    text = pytesseract.image_to_string(gray)\n",
    "    return text\n",
    "\n",
    "# Step 4: Function to preprocess the text for prediction\n",
    "def preprocess_text(text, vectorizer):\n",
    "    text_features = vectorizer.transform([text])\n",
    "    return text_features\n",
    "\n",
    "# Step 5: Function to preprocess the image for nature classification\n",
    "def preprocess_image(image_path):\n",
    "    img = cv2.imread(image_path)\n",
    "    img = cv2.resize(img, (224, 224))\n",
    "    img = img.astype('float32') / 255.0\n",
    "    return np.expand_dims(img, axis=0)\n",
    "\n",
    "# Step 6: Function to predict the class labels for text and nature\n",
    "def predict_text_and_nature_classes(image_path, vectorizer):\n",
    "    text = extract_text_from_image(image_path)\n",
    "    text_features = preprocess_text(text, vectorizer)\n",
    "    text_class_label = text_model.predict(text_features)[0]\n",
    "\n",
    "    img = preprocess_image(image_path)\n",
    "    nature_class_probabilities = nature_model.predict(img)\n",
    "    nature_class_label = np.argmax(nature_class_probabilities, axis=-1)[0]\n",
    "\n",
    "    return text_class_label, nature_class_label\n",
    "\n",
    "# Load the TfidfVectorizer used during training\n",
    "vectorizer_file = 'vectorizer.pkl'\n",
    "vectorizer = joblib.load(vectorizer_file)\n",
    "\n",
    "# Example usage\n",
    "image_path = 'what.jpeg'\n",
    "text_class_label, nature_class_label = predict_text_and_nature_classes(image_path, vectorizer)\n",
    "\n",
    "# Print the predicted class labels\n",
    "print(\"Predicted Text Class Label:\", text_class_label)\n",
    "print(\"Predicted Nature Class Label:\", nature_class_label)\n",
    "\n",
    "# Class names for text and nature classes (replace with your actual class names)\n",
    "text_class_names = ['Non islamophobic text','islamophobic text']\n",
    "nature_class_names = ['Islamophobic image','Non Islamophobic image']\n",
    "\n",
    "# Function to get the class names for text and nature classes\n",
    "def get_class_name(class_label, class_names):\n",
    "    return class_names[class_label]\n",
    "\n",
    "# Get the class names for the predicted class labels\n",
    "text_class_name = get_class_name(text_class_label, text_class_names)\n",
    "nature_class_name = get_class_name(nature_class_label, nature_class_names)\n",
    "\n",
    "# Print the predicted class names\n",
    "print(\"Predicted Text Class:\", text_class_name)\n",
    "print(\"Predicted Nature Class:\", nature_class_name)\n"
   ]
  },
  {
   "cell_type": "code",
   "execution_count": null,
   "id": "2b45d366",
   "metadata": {},
   "outputs": [],
   "source": []
  }
 ],
 "metadata": {
  "kernelspec": {
   "display_name": "Python 3 (ipykernel)",
   "language": "python",
   "name": "python3"
  },
  "language_info": {
   "codemirror_mode": {
    "name": "ipython",
    "version": 3
   },
   "file_extension": ".py",
   "mimetype": "text/x-python",
   "name": "python",
   "nbconvert_exporter": "python",
   "pygments_lexer": "ipython3",
   "version": "3.10.9"
  }
 },
 "nbformat": 4,
 "nbformat_minor": 5
}
