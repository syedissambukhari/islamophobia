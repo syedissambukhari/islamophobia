{
 "cells": [
  {
   "cell_type": "code",
   "execution_count": 1,
   "id": "d67e5d16",
   "metadata": {},
   "outputs": [],
   "source": [
    "import os\n",
    "import cv2\n",
    "import pytesseract\n",
    "import numpy as np\n",
    "from sklearn.feature_extraction.text import TfidfVectorizer\n",
    "from sklearn.svm import SVC\n",
    "from sklearn.metrics import accuracy_score, precision_score, recall_score, f1_score\n",
    "import joblib\n",
    "from tensorflow.keras.models import Sequential\n",
    "from tensorflow.keras.layers import Conv2D, MaxPooling2D, Flatten, Dense\n",
    "import tensorflow.keras as keras\n",
    "import numpy as np\n",
    "import matplotlib.pyplot as plt\n",
    "from sklearn.metrics import accuracy_score, precision_score, recall_score, f1_score"
   ]
  },
  {
   "cell_type": "code",
   "execution_count": 2,
   "id": "e65e03e1",
   "metadata": {},
   "outputs": [],
   "source": [
    "# Step 1: Data Preparation\n",
    "data_folder = 'C:/Users/Syed Issam Bukhari/Documents/projects all/projects/islamop/Memes'  # Root folder containing all the image folders"
   ]
  },
  {
   "cell_type": "code",
   "execution_count": 39,
   "id": "449d5de7",
   "metadata": {},
   "outputs": [],
   "source": [
    "# Step 2: Text Detection\n",
    "def extract_text_from_image(image_path):\n",
    "    img = cv2.imread(image_path)\n",
    "    gray = cv2.cvtColor(img, cv2.COLOR_BGR2GRAY)\n",
    "    text = pytesseract.image_to_string(gray)\n",
    "    return text\n"
   ]
  },
  {
   "cell_type": "code",
   "execution_count": 40,
   "id": "10cbf61d",
   "metadata": {},
   "outputs": [],
   "source": [
    "# Step 3: Feature Extraction for Text Classification\n",
    "def extract_text_features(data_folder):\n",
    "    images = []\n",
    "    labels = []\n",
    "    for class_label, class_name in enumerate(os.listdir(data_folder)):\n",
    "        class_folder = os.path.join(data_folder, class_name)\n",
    "        if not os.path.isdir(class_folder):\n",
    "            continue\n",
    "        for file_name in os.listdir(class_folder):\n",
    "            file_path = os.path.join(class_folder, file_name)\n",
    "            image = extract_text_from_image(file_path)\n",
    "            images.append(image)\n",
    "            labels.append(class_label)\n",
    "    vectorizer = TfidfVectorizer()\n",
    "    text_features = vectorizer.fit_transform(images)\n",
    "    return text_features, labels, vectorizer  # Return the vectorizer\n",
    "\n",
    "text_features, labels, vectorizer = extract_text_features(data_folder)  # Now extract the vectorizer"
   ]
  },
  {
   "cell_type": "code",
   "execution_count": 41,
   "id": "92ac3eac",
   "metadata": {},
   "outputs": [
    {
     "data": {
      "text/html": [
       "<style>#sk-container-id-1 {color: black;background-color: white;}#sk-container-id-1 pre{padding: 0;}#sk-container-id-1 div.sk-toggleable {background-color: white;}#sk-container-id-1 label.sk-toggleable__label {cursor: pointer;display: block;width: 100%;margin-bottom: 0;padding: 0.3em;box-sizing: border-box;text-align: center;}#sk-container-id-1 label.sk-toggleable__label-arrow:before {content: \"▸\";float: left;margin-right: 0.25em;color: #696969;}#sk-container-id-1 label.sk-toggleable__label-arrow:hover:before {color: black;}#sk-container-id-1 div.sk-estimator:hover label.sk-toggleable__label-arrow:before {color: black;}#sk-container-id-1 div.sk-toggleable__content {max-height: 0;max-width: 0;overflow: hidden;text-align: left;background-color: #f0f8ff;}#sk-container-id-1 div.sk-toggleable__content pre {margin: 0.2em;color: black;border-radius: 0.25em;background-color: #f0f8ff;}#sk-container-id-1 input.sk-toggleable__control:checked~div.sk-toggleable__content {max-height: 200px;max-width: 100%;overflow: auto;}#sk-container-id-1 input.sk-toggleable__control:checked~label.sk-toggleable__label-arrow:before {content: \"▾\";}#sk-container-id-1 div.sk-estimator input.sk-toggleable__control:checked~label.sk-toggleable__label {background-color: #d4ebff;}#sk-container-id-1 div.sk-label input.sk-toggleable__control:checked~label.sk-toggleable__label {background-color: #d4ebff;}#sk-container-id-1 input.sk-hidden--visually {border: 0;clip: rect(1px 1px 1px 1px);clip: rect(1px, 1px, 1px, 1px);height: 1px;margin: -1px;overflow: hidden;padding: 0;position: absolute;width: 1px;}#sk-container-id-1 div.sk-estimator {font-family: monospace;background-color: #f0f8ff;border: 1px dotted black;border-radius: 0.25em;box-sizing: border-box;margin-bottom: 0.5em;}#sk-container-id-1 div.sk-estimator:hover {background-color: #d4ebff;}#sk-container-id-1 div.sk-parallel-item::after {content: \"\";width: 100%;border-bottom: 1px solid gray;flex-grow: 1;}#sk-container-id-1 div.sk-label:hover label.sk-toggleable__label {background-color: #d4ebff;}#sk-container-id-1 div.sk-serial::before {content: \"\";position: absolute;border-left: 1px solid gray;box-sizing: border-box;top: 0;bottom: 0;left: 50%;z-index: 0;}#sk-container-id-1 div.sk-serial {display: flex;flex-direction: column;align-items: center;background-color: white;padding-right: 0.2em;padding-left: 0.2em;position: relative;}#sk-container-id-1 div.sk-item {position: relative;z-index: 1;}#sk-container-id-1 div.sk-parallel {display: flex;align-items: stretch;justify-content: center;background-color: white;position: relative;}#sk-container-id-1 div.sk-item::before, #sk-container-id-1 div.sk-parallel-item::before {content: \"\";position: absolute;border-left: 1px solid gray;box-sizing: border-box;top: 0;bottom: 0;left: 50%;z-index: -1;}#sk-container-id-1 div.sk-parallel-item {display: flex;flex-direction: column;z-index: 1;position: relative;background-color: white;}#sk-container-id-1 div.sk-parallel-item:first-child::after {align-self: flex-end;width: 50%;}#sk-container-id-1 div.sk-parallel-item:last-child::after {align-self: flex-start;width: 50%;}#sk-container-id-1 div.sk-parallel-item:only-child::after {width: 0;}#sk-container-id-1 div.sk-dashed-wrapped {border: 1px dashed gray;margin: 0 0.4em 0.5em 0.4em;box-sizing: border-box;padding-bottom: 0.4em;background-color: white;}#sk-container-id-1 div.sk-label label {font-family: monospace;font-weight: bold;display: inline-block;line-height: 1.2em;}#sk-container-id-1 div.sk-label-container {text-align: center;}#sk-container-id-1 div.sk-container {/* jupyter's `normalize.less` sets `[hidden] { display: none; }` but bootstrap.min.css set `[hidden] { display: none !important; }` so we also need the `!important` here to be able to override the default hidden behavior on the sphinx rendered scikit-learn.org. See: https://github.com/scikit-learn/scikit-learn/issues/21755 */display: inline-block !important;position: relative;}#sk-container-id-1 div.sk-text-repr-fallback {display: none;}</style><div id=\"sk-container-id-1\" class=\"sk-top-container\"><div class=\"sk-text-repr-fallback\"><pre>SVC(kernel=&#x27;linear&#x27;)</pre><b>In a Jupyter environment, please rerun this cell to show the HTML representation or trust the notebook. <br />On GitHub, the HTML representation is unable to render, please try loading this page with nbviewer.org.</b></div><div class=\"sk-container\" hidden><div class=\"sk-item\"><div class=\"sk-estimator sk-toggleable\"><input class=\"sk-toggleable__control sk-hidden--visually\" id=\"sk-estimator-id-1\" type=\"checkbox\" checked><label for=\"sk-estimator-id-1\" class=\"sk-toggleable__label sk-toggleable__label-arrow\">SVC</label><div class=\"sk-toggleable__content\"><pre>SVC(kernel=&#x27;linear&#x27;)</pre></div></div></div></div></div>"
      ],
      "text/plain": [
       "SVC(kernel='linear')"
      ]
     },
     "execution_count": 41,
     "metadata": {},
     "output_type": "execute_result"
    }
   ],
   "source": [
    "# Step 4: Model Training for Text Classification\n",
    "text_model = SVC(kernel='linear')\n",
    "text_model.fit(text_features, labels)"
   ]
  },
  {
   "cell_type": "code",
   "execution_count": 42,
   "id": "0db86b64",
   "metadata": {},
   "outputs": [
    {
     "name": "stdout",
     "output_type": "stream",
     "text": [
      "Text Accuracy: 0.42925\n",
      "Text Precision: 0.45541389663364085\n",
      "Text Recall: 0.42925\n",
      "Text F1-score: 0.4233844220830174\n"
     ]
    }
   ],
   "source": [
    "# Step 5: Model Evaluation for Text Classification\n",
    "text_pred = text_model.predict(text_features)\n",
    "\n",
    "text_accuracy = accuracy_score(labels, text_pred)\n",
    "text_precision = precision_score(labels, text_pred, average='weighted')\n",
    "text_recall = recall_score(labels, text_pred, average='weighted')\n",
    "text_f1_score = f1_score(labels, text_pred, average='weighted')\n",
    "\n",
    "print(\"Text Accuracy:\", text_accuracy)\n",
    "print(\"Text Precision:\", text_precision)\n",
    "print(\"Text Recall:\", text_recall)\n",
    "print(\"Text F1-score:\", text_f1_score)"
   ]
  },
  {
   "cell_type": "code",
   "execution_count": 14,
   "id": "a6d360c9",
   "metadata": {},
   "outputs": [
    {
     "data": {
      "image/png": "[encoded data removed]",
      "text/plain": [
       "<Figure size 640x480 with 1 Axes>"
      ]
     },
     "metadata": {},
     "output_type": "display_data"
    }
   ],
   "source": [
    "\n",
    "text_accuracy = 0.42\n",
    "text_precision = 0.45\n",
    "text_recall = 0.42\n",
    "text_f1_score = 0.42\n",
    "\n",
    "# List of metrics\n",
    "metrics = ['Accuracy', 'Precision', 'Recall', 'F1-score']\n",
    "\n",
    "# List of corresponding metric values\n",
    "metric_values = [text_accuracy, text_precision, text_recall, text_f1_score]\n",
    "\n",
    "# Plotting the bar plot\n",
    "plt.bar(metrics, metric_values, color=['blue', 'green', 'orange', 'red'])\n",
    "plt.xlabel('Metrics')\n",
    "plt.ylabel('Scores')\n",
    "plt.title('text Classification Evaluation Metrics')\n",
    "plt.ylim(0.0, 1.0)\n",
    "plt.show()\n"
   ]
  },
  {
   "cell_type": "code",
   "execution_count": 43,
   "id": "c36dbc6b",
   "metadata": {},
   "outputs": [
    {
     "name": "stdout",
     "output_type": "stream",
     "text": [
      "Text Model and Vectorizer saved successfully.\n"
     ]
    }
   ],
   "source": [
    "# Step 6: Save Text Model and Vectorizer\n",
    "text_model_file = 'text_model.pkl'\n",
    "joblib.dump(text_model, text_model_file)\n",
    "\n",
    "vectorizer_file = 'vectorizer.pkl'\n",
    "joblib.dump(vectorizer, vectorizer_file)\n",
    "\n",
    "print(\"Text Model and Vectorizer saved successfully.\")"
   ]
  },
  {
   "cell_type": "code",
   "execution_count": 3,
   "id": "1c3a1dda",
   "metadata": {},
   "outputs": [],
   "source": [
    "# Step 7: Load and Preprocess Images for Nature Classification\n",
    "def preprocess_image(image_path):\n",
    "    img = cv2.imread(image_path)\n",
    "    img = cv2.resize(img, (224, 224))  # Resize image to fit CNN model input shape\n",
    "    img = img.astype('float32') / 255.0  # Normalize pixel values to [0, 1]\n",
    "    return img\n"
   ]
  },
  {
   "cell_type": "code",
   "execution_count": 4,
   "id": "9fb360cd",
   "metadata": {},
   "outputs": [],
   "source": [
    "def load_images(data_folder):\n",
    "    images = []\n",
    "    labels = []\n",
    "    for class_label, class_name in enumerate(os.listdir(data_folder)):\n",
    "        class_folder = os.path.join(data_folder, class_name)\n",
    "        if not os.path.isdir(class_folder):\n",
    "            continue\n",
    "        for file_name in os.listdir(class_folder):\n",
    "            file_path = os.path.join(class_folder, file_name)\n",
    "            image = preprocess_image(file_path)\n",
    "            images.append(image)\n",
    "            labels.append(class_label)\n",
    "    return np.array(images), np.array(labels)\n",
    "\n",
    "all_images, all_labels = load_images(data_folder)"
   ]
  },
  {
   "cell_type": "code",
   "execution_count": 5,
   "id": "e7cdd2eb",
   "metadata": {},
   "outputs": [
    {
     "name": "stdout",
     "output_type": "stream",
     "text": [
      "Model: \"sequential\"\n",
      "_________________________________________________________________\n",
      " Layer (type)                Output Shape              Param #   \n",
      "=================================================================\n",
      " conv2d (Conv2D)             (None, 222, 222, 32)      896       \n",
      "                                                                 \n",
      " max_pooling2d (MaxPooling2D  (None, 111, 111, 32)     0         \n",
      " )                                                               \n",
      "                                                                 \n",
      " conv2d_1 (Conv2D)           (None, 109, 109, 64)      18496     \n",
      "                                                                 \n",
      " max_pooling2d_1 (MaxPooling  (None, 54, 54, 64)       0         \n",
      " 2D)                                                             \n",
      "                                                                 \n",
      " conv2d_2 (Conv2D)           (None, 52, 52, 128)       73856     \n",
      "                                                                 \n",
      " max_pooling2d_2 (MaxPooling  (None, 26, 26, 128)      0         \n",
      " 2D)                                                             \n",
      "                                                                 \n",
      " flatten (Flatten)           (None, 86528)             0         \n",
      "                                                                 \n",
      " dense (Dense)               (None, 128)               11075712  \n",
      "                                                                 \n",
      " dense_1 (Dense)             (None, 4)                 516       \n",
      "                                                                 \n",
      "=================================================================\n",
      "Total params: 11,169,476\n",
      "Trainable params: 11,169,476\n",
      "Non-trainable params: 0\n",
      "_________________________________________________________________\n"
     ]
    }
   ],
   "source": [
    "# Step 8: Model Training for Nature Classification\n",
    "nature_model = Sequential()\n",
    "nature_model.add(Conv2D(32, (3, 3), activation='relu', input_shape=(224, 224, 3)))\n",
    "nature_model.add(MaxPooling2D((2, 2)))\n",
    "nature_model.add(Conv2D(64, (3, 3), activation='relu'))\n",
    "nature_model.add(MaxPooling2D((2, 2)))\n",
    "nature_model.add(Conv2D(128, (3, 3), activation='relu'))\n",
    "nature_model.add(MaxPooling2D((2, 2)))\n",
    "nature_model.add(Flatten())\n",
    "nature_model.add(Dense(128, activation='relu'))\n",
    "nature_model.add(Dense(len(set(all_labels)), activation='softmax'))\n",
    "# Print the model summary\n",
    "nature_model.summary()"
   ]
  },
  {
   "cell_type": "code",
   "execution_count": 6,
   "id": "281e758a",
   "metadata": {},
   "outputs": [
    {
     "name": "stdout",
     "output_type": "stream",
     "text": [
      "Epoch 1/100\n",
      "125/125 [==============================] - 190s 2s/step - loss: 1.4983 - accuracy: 0.3043\n",
      "Epoch 2/100\n",
      "125/125 [==============================] - 191s 2s/step - loss: 1.2050 - accuracy: 0.3540\n",
      "Epoch 3/100\n",
      "125/125 [==============================] - 198s 2s/step - loss: 1.0461 - accuracy: 0.3965\n",
      "Epoch 4/100\n",
      "125/125 [==============================] - 192s 2s/step - loss: 0.9086 - accuracy: 0.4340\n",
      "Epoch 5/100\n",
      "125/125 [==============================] - 185s 1s/step - loss: 0.8213 - accuracy: 0.4765\n",
      "Epoch 6/100\n",
      "125/125 [==============================] - 185s 1s/step - loss: 0.7767 - accuracy: 0.4818\n",
      "Epoch 7/100\n",
      "125/125 [==============================] - 185s 1s/step - loss: 0.7721 - accuracy: 0.4875\n",
      "Epoch 8/100\n",
      "125/125 [==============================] - 186s 1s/step - loss: 0.7579 - accuracy: 0.4882\n",
      "Epoch 9/100\n",
      "125/125 [==============================] - 185s 1s/step - loss: 0.7513 - accuracy: 0.4885\n",
      "Epoch 10/100\n",
      "125/125 [==============================] - 184s 1s/step - loss: 0.7450 - accuracy: 0.4832\n",
      "Epoch 11/100\n",
      "125/125 [==============================] - 185s 1s/step - loss: 0.7374 - accuracy: 0.4885\n",
      "Epoch 12/100\n",
      "125/125 [==============================] - 185s 1s/step - loss: 0.7305 - accuracy: 0.4965\n",
      "Epoch 13/100\n",
      "125/125 [==============================] - 188s 2s/step - loss: 0.7298 - accuracy: 0.4905\n",
      "Epoch 14/100\n",
      "125/125 [==============================] - 186s 1s/step - loss: 0.7371 - accuracy: 0.4848\n",
      "Epoch 15/100\n",
      "125/125 [==============================] - 185s 1s/step - loss: 0.7260 - accuracy: 0.4980\n",
      "Epoch 16/100\n",
      "125/125 [==============================] - 185s 1s/step - loss: 0.7256 - accuracy: 0.4868\n",
      "Epoch 17/100\n",
      "125/125 [==============================] - 187s 1s/step - loss: 0.7261 - accuracy: 0.4863\n",
      "Epoch 18/100\n",
      "125/125 [==============================] - 186s 1s/step - loss: 0.7229 - accuracy: 0.4978\n",
      "Epoch 19/100\n",
      "125/125 [==============================] - 185s 1s/step - loss: 0.7191 - accuracy: 0.4950\n",
      "Epoch 20/100\n",
      "125/125 [==============================] - 186s 1s/step - loss: 0.7199 - accuracy: 0.4823\n",
      "Epoch 21/100\n",
      "125/125 [==============================] - 185s 1s/step - loss: 0.7194 - accuracy: 0.4823\n",
      "Epoch 22/100\n",
      "125/125 [==============================] - 185s 1s/step - loss: 0.7222 - accuracy: 0.4728\n",
      "Epoch 23/100\n",
      "125/125 [==============================] - 185s 1s/step - loss: 0.7249 - accuracy: 0.4843\n",
      "Epoch 24/100\n",
      "125/125 [==============================] - 191s 2s/step - loss: 0.7241 - accuracy: 0.4882\n",
      "Epoch 25/100\n",
      "125/125 [==============================] - 185s 1s/step - loss: 0.7198 - accuracy: 0.4835\n",
      "Epoch 26/100\n",
      "125/125 [==============================] - 185s 1s/step - loss: 0.7220 - accuracy: 0.4762\n",
      "Epoch 27/100\n",
      "125/125 [==============================] - 186s 1s/step - loss: 0.7206 - accuracy: 0.4873\n",
      "Epoch 28/100\n",
      "125/125 [==============================] - 185s 1s/step - loss: 0.7201 - accuracy: 0.4893\n",
      "Epoch 29/100\n",
      "125/125 [==============================] - 185s 1s/step - loss: 0.7182 - accuracy: 0.4868\n",
      "Epoch 30/100\n",
      "125/125 [==============================] - 185s 1s/step - loss: 0.7240 - accuracy: 0.4955\n",
      "Epoch 31/100\n",
      "125/125 [==============================] - 185s 1s/step - loss: 0.7185 - accuracy: 0.4922\n",
      "Epoch 32/100\n",
      "125/125 [==============================] - 185s 1s/step - loss: 0.7183 - accuracy: 0.4827\n",
      "Epoch 33/100\n",
      "125/125 [==============================] - 184s 1s/step - loss: 0.7202 - accuracy: 0.4860\n",
      "Epoch 34/100\n",
      "125/125 [==============================] - 185s 1s/step - loss: 0.7259 - accuracy: 0.4890\n",
      "Epoch 35/100\n",
      "125/125 [==============================] - 185s 1s/step - loss: 0.7394 - accuracy: 0.4875\n",
      "Epoch 36/100\n",
      "125/125 [==============================] - 184s 1s/step - loss: 0.7269 - accuracy: 0.4947\n",
      "Epoch 37/100\n",
      "125/125 [==============================] - 185s 1s/step - loss: 0.7289 - accuracy: 0.4708\n",
      "Epoch 38/100\n",
      "125/125 [==============================] - 184s 1s/step - loss: 0.7294 - accuracy: 0.4757\n",
      "Epoch 39/100\n",
      "125/125 [==============================] - 184s 1s/step - loss: 0.7205 - accuracy: 0.4888\n",
      "Epoch 40/100\n",
      "125/125 [==============================] - 184s 1s/step - loss: 0.7168 - accuracy: 0.4868\n",
      "Epoch 41/100\n",
      "125/125 [==============================] - 184s 1s/step - loss: 0.7158 - accuracy: 0.4927\n",
      "Epoch 42/100\n",
      "125/125 [==============================] - 184s 1s/step - loss: 0.7163 - accuracy: 0.4880\n",
      "Epoch 43/100\n",
      "125/125 [==============================] - 191s 2s/step - loss: 0.7161 - accuracy: 0.4848\n",
      "Epoch 44/100\n",
      "125/125 [==============================] - 184s 1s/step - loss: 0.7158 - accuracy: 0.4778\n",
      "Epoch 45/100\n",
      "125/125 [==============================] - 184s 1s/step - loss: 0.7162 - accuracy: 0.4737\n",
      "Epoch 46/100\n",
      "125/125 [==============================] - 184s 1s/step - loss: 0.7153 - accuracy: 0.4823\n",
      "Epoch 47/100\n",
      "125/125 [==============================] - 185s 1s/step - loss: 0.7158 - accuracy: 0.4840\n",
      "Epoch 48/100\n",
      "125/125 [==============================] - 184s 1s/step - loss: 0.7159 - accuracy: 0.4897\n",
      "Epoch 49/100\n",
      "125/125 [==============================] - 184s 1s/step - loss: 0.7163 - accuracy: 0.5013\n",
      "Epoch 50/100\n",
      "125/125 [==============================] - 184s 1s/step - loss: 0.7193 - accuracy: 0.4863\n",
      "Epoch 51/100\n",
      "125/125 [==============================] - 184s 1s/step - loss: 0.7205 - accuracy: 0.4897\n",
      "Epoch 52/100\n",
      "125/125 [==============================] - 183s 1s/step - loss: 0.7144 - accuracy: 0.4890\n",
      "Epoch 53/100\n",
      "125/125 [==============================] - 185s 1s/step - loss: 0.7171 - accuracy: 0.4938\n",
      "Epoch 54/100\n",
      "125/125 [==============================] - 185s 1s/step - loss: 0.7210 - accuracy: 0.4812\n",
      "Epoch 55/100\n",
      "125/125 [==============================] - 183s 1s/step - loss: 0.7281 - accuracy: 0.4940\n",
      "Epoch 56/100\n",
      "125/125 [==============================] - 184s 1s/step - loss: 0.7179 - accuracy: 0.5038\n",
      "Epoch 57/100\n",
      "125/125 [==============================] - 184s 1s/step - loss: 0.7171 - accuracy: 0.4645\n",
      "Epoch 58/100\n",
      "125/125 [==============================] - 183s 1s/step - loss: 0.7163 - accuracy: 0.4757\n",
      "Epoch 59/100\n",
      "125/125 [==============================] - 183s 1s/step - loss: 0.7166 - accuracy: 0.4908\n",
      "Epoch 60/100\n",
      "125/125 [==============================] - 184s 1s/step - loss: 0.7157 - accuracy: 0.4863\n",
      "Epoch 61/100\n",
      "125/125 [==============================] - 184s 1s/step - loss: 0.7161 - accuracy: 0.4955\n",
      "Epoch 62/100\n",
      "125/125 [==============================] - 190s 2s/step - loss: 0.7220 - accuracy: 0.4980\n",
      "Epoch 63/100\n",
      "125/125 [==============================] - 183s 1s/step - loss: 0.7549 - accuracy: 0.4825\n",
      "Epoch 64/100\n",
      "125/125 [==============================] - 183s 1s/step - loss: 0.7245 - accuracy: 0.4800\n",
      "Epoch 65/100\n",
      "125/125 [==============================] - 183s 1s/step - loss: 0.7160 - accuracy: 0.4930\n",
      "Epoch 66/100\n",
      "125/125 [==============================] - 184s 1s/step - loss: 0.7160 - accuracy: 0.4850\n",
      "Epoch 67/100\n",
      "125/125 [==============================] - 183s 1s/step - loss: 0.7152 - accuracy: 0.4865\n",
      "Epoch 68/100\n",
      "125/125 [==============================] - 183s 1s/step - loss: 0.7165 - accuracy: 0.4680\n",
      "Epoch 69/100\n",
      "125/125 [==============================] - 184s 1s/step - loss: 0.7142 - accuracy: 0.4803\n",
      "Epoch 70/100\n",
      "125/125 [==============================] - 183s 1s/step - loss: 0.7140 - accuracy: 0.4908\n",
      "Epoch 71/100\n",
      "125/125 [==============================] - 183s 1s/step - loss: 0.7145 - accuracy: 0.4960\n",
      "Epoch 72/100\n",
      "125/125 [==============================] - 183s 1s/step - loss: 0.7148 - accuracy: 0.4910\n",
      "Epoch 73/100\n",
      "125/125 [==============================] - 184s 1s/step - loss: 0.7142 - accuracy: 0.4742\n",
      "Epoch 74/100\n",
      "125/125 [==============================] - 183s 1s/step - loss: 0.7125 - accuracy: 0.4992\n",
      "Epoch 75/100\n",
      "125/125 [==============================] - 183s 1s/step - loss: 0.7151 - accuracy: 0.4995\n",
      "Epoch 76/100\n",
      "125/125 [==============================] - 184s 1s/step - loss: 0.7150 - accuracy: 0.4877\n",
      "Epoch 77/100\n",
      "125/125 [==============================] - 183s 1s/step - loss: 0.7143 - accuracy: 0.4882\n",
      "Epoch 78/100\n",
      "125/125 [==============================] - 209s 2s/step - loss: 0.7172 - accuracy: 0.4950\n",
      "Epoch 79/100\n",
      "125/125 [==============================] - 214s 2s/step - loss: 0.7141 - accuracy: 0.4902\n",
      "Epoch 80/100\n"
     ]
    },
    {
     "name": "stdout",
     "output_type": "stream",
     "text": [
      "125/125 [==============================] - 210s 2s/step - loss: 0.7150 - accuracy: 0.5015\n",
      "Epoch 81/100\n",
      "125/125 [==============================] - 210s 2s/step - loss: 0.7151 - accuracy: 0.4812\n",
      "Epoch 82/100\n",
      "125/125 [==============================] - 230s 2s/step - loss: 0.7158 - accuracy: 0.4767\n",
      "Epoch 83/100\n",
      "125/125 [==============================] - 210s 2s/step - loss: 0.7135 - accuracy: 0.4888\n",
      "Epoch 84/100\n",
      "125/125 [==============================] - 210s 2s/step - loss: 0.7154 - accuracy: 0.4798\n",
      "Epoch 85/100\n",
      "125/125 [==============================] - 212s 2s/step - loss: 0.7130 - accuracy: 0.4915\n",
      "Epoch 86/100\n",
      "125/125 [==============================] - 211s 2s/step - loss: 0.7169 - accuracy: 0.4913\n",
      "Epoch 87/100\n",
      "125/125 [==============================] - 210s 2s/step - loss: 0.7166 - accuracy: 0.4778\n",
      "Epoch 88/100\n",
      "125/125 [==============================] - 210s 2s/step - loss: 0.7176 - accuracy: 0.4863\n",
      "Epoch 89/100\n",
      "125/125 [==============================] - 210s 2s/step - loss: 0.7158 - accuracy: 0.4848\n",
      "Epoch 90/100\n",
      "125/125 [==============================] - 210s 2s/step - loss: 0.7150 - accuracy: 0.4810\n",
      "Epoch 91/100\n",
      "125/125 [==============================] - 210s 2s/step - loss: 0.7144 - accuracy: 0.4990\n",
      "Epoch 92/100\n",
      "125/125 [==============================] - 210s 2s/step - loss: 0.7166 - accuracy: 0.4877\n",
      "Epoch 93/100\n",
      "125/125 [==============================] - 213s 2s/step - loss: 0.7165 - accuracy: 0.4930\n",
      "Epoch 94/100\n",
      "125/125 [==============================] - 210s 2s/step - loss: 0.7237 - accuracy: 0.4812\n",
      "Epoch 95/100\n",
      "125/125 [==============================] - 211s 2s/step - loss: 0.7334 - accuracy: 0.4940\n",
      "Epoch 96/100\n",
      "125/125 [==============================] - 211s 2s/step - loss: 0.7212 - accuracy: 0.4890\n",
      "Epoch 97/100\n",
      "125/125 [==============================] - 225s 2s/step - loss: 0.7184 - accuracy: 0.4798\n",
      "Epoch 98/100\n",
      "125/125 [==============================] - 198s 2s/step - loss: 0.7146 - accuracy: 0.4885\n",
      "Epoch 99/100\n",
      "125/125 [==============================] - 286s 2s/step - loss: 0.7142 - accuracy: 0.4785\n",
      "Epoch 100/100\n",
      "125/125 [==============================] - 192s 2s/step - loss: 0.7129 - accuracy: 0.4965\n"
     ]
    },
    {
     "data": {
      "text/plain": [
       "<keras.callbacks.History at 0x1efde69a5c0>"
      ]
     },
     "execution_count": 6,
     "metadata": {},
     "output_type": "execute_result"
    }
   ],
   "source": [
    "nature_model.compile(optimizer='adam', loss='sparse_categorical_crossentropy', metrics=['accuracy'])\n",
    "nature_model.fit(all_images, all_labels, epochs=100, batch_size=32)"
   ]
  },
  {
   "cell_type": "code",
   "execution_count": 7,
   "id": "b3b76d45",
   "metadata": {},
   "outputs": [
    {
     "name": "stdout",
     "output_type": "stream",
     "text": [
      "125/125 [==============================] - 50s 402ms/step\n",
      "Nature Accuracy: 0.494\n",
      "Nature Precision: 0.4926929740968552\n",
      "Nature Recall: 0.494\n",
      "Nature F1-score: 0.3890766878086295\n"
     ]
    }
   ],
   "source": [
    "# Step 9: Model Evaluation for Nature Classification\n",
    "nature_pred = np.argmax(nature_model.predict(all_images), axis=-1)\n",
    "\n",
    "nature_accuracy = accuracy_score(all_labels, nature_pred)\n",
    "nature_precision = precision_score(all_labels, nature_pred, average='weighted')\n",
    "nature_recall = recall_score(all_labels, nature_pred, average='weighted')\n",
    "nature_f1_score = f1_score(all_labels, nature_pred, average='weighted')\n",
    "\n",
    "print(\"Nature Accuracy:\", nature_accuracy)\n",
    "print(\"Nature Precision:\", nature_precision)\n",
    "print(\"Nature Recall:\", nature_recall)\n",
    "print(\"Nature F1-score:\", nature_f1_score)\n"
   ]
  },
  {
   "cell_type": "code",
   "execution_count": 8,
   "id": "2244826a",
   "metadata": {},
   "outputs": [
    {
     "name": "stdout",
     "output_type": "stream",
     "text": [
      "Nature Model saved successfully.\n"
     ]
    }
   ],
   "source": [
    "# Step 10: Save Nature Model\n",
    "\n",
    "nature_model_file = 'nature_model.h5'\n",
    "nature_model.save(nature_model_file)\n",
    "print(\"Nature Model saved successfully.\")"
   ]
  },
  {
   "cell_type": "code",
   "execution_count": 12,
   "id": "1b680f28",
   "metadata": {},
   "outputs": [
    {
     "data": {
      "image/png": "[encoded data removed]",
      "text/plain": [
       "<Figure size 640x480 with 1 Axes>"
      ]
     },
     "metadata": {},
     "output_type": "display_data"
    }
   ],
   "source": [
    "nature_accuracy = 0.494\n",
    "nature_precision = 0.49\n",
    "nature_recall = 0.49\n",
    "nature_f1_score = 0.38\n",
    "\n",
    "# List of metrics\n",
    "metrics = ['Accuracy', 'Precision', 'Recall', 'F1-score']\n",
    "\n",
    "# List of corresponding metric values\n",
    "metric_values = [nature_accuracy, nature_precision, nature_recall, nature_f1_score]\n",
    "\n",
    "# Plotting the bar plot\n",
    "plt.bar(metrics, metric_values, color=['blue', 'green', 'orange', 'red'])\n",
    "plt.xlabel('Metrics')\n",
    "plt.ylabel('Scores')\n",
    "plt.title('Nature Classification Evaluation Metrics')\n",
    "plt.ylim(0.0, 1.0)\n",
    "plt.show()\n"
   ]
  },
  {
   "cell_type": "code",
   "execution_count": null,
   "id": "3feb75db",
   "metadata": {},
   "outputs": [],
   "source": []
  }
 ],
 "metadata": {
  "kernelspec": {
   "display_name": "Python 3 (ipykernel)",
   "language": "python",
   "name": "python3"
  },
  "language_info": {
   "codemirror_mode": {
    "name": "ipython",
    "version": 3
   },
   "file_extension": ".py",
   "mimetype": "text/x-python",
   "name": "python",
   "nbconvert_exporter": "python",
   "pygments_lexer": "ipython3",
   "version": "3.10.9"
  }
 },
 "nbformat": 4,
 "nbformat_minor": 5
}
