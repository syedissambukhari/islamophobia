{
  "nbformat": 4,
  "nbformat_minor": 0,
  "metadata": {
    "colab": {
      "provenance": [],
      "gpuType": "T4"
    },
    "kernelspec": {
      "name": "python3",
      "display_name": "Python 3"
    },
    "language_info": {
      "name": "python"
    },
    "accelerator": "GPU"
  },
  "cells": [
    {
      "cell_type": "code",
      "execution_count": 1,
      "metadata": {
        "colab": {
          "base_uri": "https://localhost:8080/"
        },
        "id": "cN2rsaCpcYNC",
        "outputId": "11db48a7-6c96-4ecf-ae25-1eb3f43cf22e"
      },
      "outputs": [
        {
          "output_type": "stream",
          "name": "stdout",
          "text": [
            "Mounted at /content/gdrive\n"
          ]
        }
      ],
      "source": [
        "# needed to import dataset from google drive into colab\n",
        "from google.colab import drive\n",
        "drive.mount(\"/content/gdrive\")"
      ]
    },
    {
      "cell_type": "code",
      "source": [
        "cd gdrive"
      ],
      "metadata": {
        "colab": {
          "base_uri": "https://localhost:8080/"
        },
        "id": "s33b5qrPcnzj",
        "outputId": "435b7db9-6cfa-4e65-d90f-953b984f4568"
      },
      "execution_count": 2,
      "outputs": [
        {
          "output_type": "stream",
          "name": "stdout",
          "text": [
            "/content/gdrive\n"
          ]
        }
      ]
    },
    {
      "cell_type": "code",
      "source": [
        "cd MyDrive"
      ],
      "metadata": {
        "colab": {
          "base_uri": "https://localhost:8080/"
        },
        "id": "q-OvvWRTc3s_",
        "outputId": "5af93814-83c2-4624-e80e-d29f593f96cb"
      },
      "execution_count": 3,
      "outputs": [
        {
          "output_type": "stream",
          "name": "stdout",
          "text": [
            "/content/gdrive/MyDrive\n"
          ]
        }
      ]
    },
    {
      "cell_type": "code",
      "source": [
        "pip install git+https://github.com/openai/CLIP.git"
      ],
      "metadata": {
        "colab": {
          "base_uri": "https://localhost:8080/"
        },
        "id": "2Bnkuzurc_dU",
        "outputId": "03f8329a-f5a0-4403-c2a6-6c365a41b4a0"
      },
      "execution_count": 4,
      "outputs": [
        {
          "output_type": "stream",
          "name": "stdout",
          "text": [
            "Collecting git+https://github.com/openai/CLIP.git\n",
            "  Cloning https://github.com/openai/CLIP.git to /tmp/pip-req-build-xghezaon\n",
            "  Running command git clone --filter=blob:none --quiet https://github.com/openai/CLIP.git /tmp/pip-req-build-xghezaon\n",
            "  Resolved https://github.com/openai/CLIP.git to commit a1d071733d7111c9c014f024669f959182114e33\n",
            "  Preparing metadata (setup.py) ... \u001b[?25l\u001b[?25hdone\n",
            "Collecting ftfy (from clip==1.0)\n",
            "  Downloading ftfy-6.1.1-py3-none-any.whl (53 kB)\n",
            "\u001b[2K     \u001b[90m━━━━━━━━━━━━━━━━━━━━━━━━━━━━━━━━━━━━━━━━\u001b[0m \u001b[32m53.1/53.1 kB\u001b[0m \u001b[31m1.1 MB/s\u001b[0m eta \u001b[36m0:00:00\u001b[0m\n",
            "\u001b[?25hRequirement already satisfied: regex in /usr/local/lib/python3.10/dist-packages (from clip==1.0) (2023.6.3)\n",
            "Requirement already satisfied: tqdm in /usr/local/lib/python3.10/dist-packages (from clip==1.0) (4.66.1)\n",
            "Requirement already satisfied: torch in /usr/local/lib/python3.10/dist-packages (from clip==1.0) (2.0.1+cu118)\n",
            "Requirement already satisfied: torchvision in /usr/local/lib/python3.10/dist-packages (from clip==1.0) (0.15.2+cu118)\n",
            "Requirement already satisfied: wcwidth>=0.2.5 in /usr/local/lib/python3.10/dist-packages (from ftfy->clip==1.0) (0.2.6)\n",
            "Requirement already satisfied: filelock in /usr/local/lib/python3.10/dist-packages (from torch->clip==1.0) (3.12.2)\n",
            "Requirement already satisfied: typing-extensions in /usr/local/lib/python3.10/dist-packages (from torch->clip==1.0) (4.7.1)\n",
            "Requirement already satisfied: sympy in /usr/local/lib/python3.10/dist-packages (from torch->clip==1.0) (1.12)\n",
            "Requirement already satisfied: networkx in /usr/local/lib/python3.10/dist-packages (from torch->clip==1.0) (3.1)\n",
            "Requirement already satisfied: jinja2 in /usr/local/lib/python3.10/dist-packages (from torch->clip==1.0) (3.1.2)\n",
            "Requirement already satisfied: triton==2.0.0 in /usr/local/lib/python3.10/dist-packages (from torch->clip==1.0) (2.0.0)\n",
            "Requirement already satisfied: cmake in /usr/local/lib/python3.10/dist-packages (from triton==2.0.0->torch->clip==1.0) (3.27.2)\n",
            "Requirement already satisfied: lit in /usr/local/lib/python3.10/dist-packages (from triton==2.0.0->torch->clip==1.0) (16.0.6)\n",
            "Requirement already satisfied: numpy in /usr/local/lib/python3.10/dist-packages (from torchvision->clip==1.0) (1.23.5)\n",
            "Requirement already satisfied: requests in /usr/local/lib/python3.10/dist-packages (from torchvision->clip==1.0) (2.31.0)\n",
            "Requirement already satisfied: pillow!=8.3.*,>=5.3.0 in /usr/local/lib/python3.10/dist-packages (from torchvision->clip==1.0) (9.4.0)\n",
            "Requirement already satisfied: MarkupSafe>=2.0 in /usr/local/lib/python3.10/dist-packages (from jinja2->torch->clip==1.0) (2.1.3)\n",
            "Requirement already satisfied: charset-normalizer<4,>=2 in /usr/local/lib/python3.10/dist-packages (from requests->torchvision->clip==1.0) (3.2.0)\n",
            "Requirement already satisfied: idna<4,>=2.5 in /usr/local/lib/python3.10/dist-packages (from requests->torchvision->clip==1.0) (3.4)\n",
            "Requirement already satisfied: urllib3<3,>=1.21.1 in /usr/local/lib/python3.10/dist-packages (from requests->torchvision->clip==1.0) (2.0.4)\n",
            "Requirement already satisfied: certifi>=2017.4.17 in /usr/local/lib/python3.10/dist-packages (from requests->torchvision->clip==1.0) (2023.7.22)\n",
            "Requirement already satisfied: mpmath>=0.19 in /usr/local/lib/python3.10/dist-packages (from sympy->torch->clip==1.0) (1.3.0)\n",
            "Building wheels for collected packages: clip\n",
            "  Building wheel for clip (setup.py) ... \u001b[?25l\u001b[?25hdone\n",
            "  Created wheel for clip: filename=clip-1.0-py3-none-any.whl size=1369497 sha256=6bea2e681d6fc66fa85e42c8347a12e5be1254e1c578d2294037cc0862cf761b\n",
            "  Stored in directory: /tmp/pip-ephem-wheel-cache-bih3a9uv/wheels/da/2b/4c/d6691fa9597aac8bb85d2ac13b112deb897d5b50f5ad9a37e4\n",
            "Successfully built clip\n",
            "Installing collected packages: ftfy, clip\n",
            "Successfully installed clip-1.0 ftfy-6.1.1\n"
          ]
        }
      ]
    },
    {
      "cell_type": "code",
      "source": [
        "import os\n",
        "import cv2\n",
        "import numpy as np\n",
        "import torch\n",
        "import torch.nn as nn\n",
        "import torch.optim as optim\n",
        "from torch.utils.data import DataLoader, Dataset\n",
        "from torchvision import transforms\n",
        "import clip\n",
        "from sklearn.metrics import accuracy_score, precision_score, recall_score, f1_score\n",
        "from sklearn.model_selection import train_test_split"
      ],
      "metadata": {
        "id": "JADCT01mc7RG"
      },
      "execution_count": 5,
      "outputs": []
    },
    {
      "cell_type": "code",
      "source": [
        "cnn_data_folder = 'cnn_dataset'"
      ],
      "metadata": {
        "id": "bumYHpvJdJnP"
      },
      "execution_count": 6,
      "outputs": []
    },
    {
      "cell_type": "code",
      "source": [
        "# Step 7: Load and Preprocess Images for Nature Classification\n",
        "class ImageDataset(Dataset):\n",
        "    def __init__(self, data_folder, transform=None):\n",
        "        self.data_folder = data_folder\n",
        "        self.transform = transform\n",
        "        self.images, self.labels = self.load_images()\n",
        "\n",
        "    def load_images(self):\n",
        "        images = []\n",
        "        labels = []\n",
        "        for class_label, class_name in enumerate(os.listdir(self.data_folder)):\n",
        "            class_folder = os.path.join(self.data_folder, class_name)\n",
        "            if not os.path.isdir(class_folder):\n",
        "                continue\n",
        "            for file_name in os.listdir(class_folder):\n",
        "                file_path = os.path.join(class_folder, file_name)\n",
        "                image = cv2.imread(file_path)\n",
        "                image = cv2.resize(image, (224, 224))  # Resize image to fit CLIP model input shape\n",
        "                label = class_label\n",
        "                images.append(image)\n",
        "                labels.append(label)\n",
        "        return np.array(images), np.array(labels)\n",
        "\n",
        "    def __len__(self):\n",
        "        return len(self.images)\n",
        "\n",
        "    def __getitem__(self, index):\n",
        "        image = self.images[index]\n",
        "        label = self.labels[index]\n",
        "        if self.transform:\n",
        "            image = self.transform(image)\n",
        "        return image, label"
      ],
      "metadata": {
        "id": "E5cZvhB9dR2M"
      },
      "execution_count": 7,
      "outputs": []
    },
    {
      "cell_type": "code",
      "source": [
        "# Define the transformation to normalize and convert image to tensor\n",
        "transform = transforms.Compose([\n",
        "    transforms.ToTensor(),\n",
        "    transforms.Normalize(mean=[0.5, 0.5, 0.5], std=[0.5, 0.5, 0.5])\n",
        "])"
      ],
      "metadata": {
        "id": "pVmpjOU_dR5A"
      },
      "execution_count": 8,
      "outputs": []
    },
    {
      "cell_type": "code",
      "source": [
        "# Load the fine-tuned CLIP model and tokenizer\n",
        "device = \"cuda\" if torch.cuda.is_available() else \"cpu\"\n",
        "model, preprocess = clip.load('ViT-B/32', device)"
      ],
      "metadata": {
        "id": "8xsIgUdvdR8Y"
      },
      "execution_count": 10,
      "outputs": []
    },
    {
      "cell_type": "code",
      "source": [
        "#  Split the dataset into train, validation, and test sets\n",
        "cnn_data_folder = 'cnn_dataset'\n",
        "transform = transforms.Compose([\n",
        "    transforms.ToTensor(),\n",
        "    transforms.Normalize(mean=[0.5, 0.5, 0.5], std=[0.5, 0.5, 0.5])\n",
        "])\n",
        "dataset = ImageDataset(cnn_data_folder, transform=transform)\n",
        "\n",
        "train_ratio = 0.7\n",
        "val_ratio = 0.15\n",
        "test_ratio = 0.15\n",
        "\n",
        "num_samples = len(dataset)\n",
        "num_train = int(train_ratio * num_samples)\n",
        "num_val = int(val_ratio * num_samples)\n",
        "num_test = num_samples - num_train - num_val\n",
        "\n",
        "train_set, temp_set = train_test_split(dataset, train_size=num_train)\n",
        "val_set, test_set = train_test_split(temp_set, train_size=num_val)\n",
        "\n",
        "train_loader = DataLoader(train_set, batch_size=32, shuffle=True)\n",
        "val_loader = DataLoader(val_set, batch_size=32, shuffle=False)\n",
        "test_loader = DataLoader(test_set, batch_size=32, shuffle=False)"
      ],
      "metadata": {
        "id": "bk7ZJtbkHPNb"
      },
      "execution_count": 11,
      "outputs": []
    },
    {
      "cell_type": "code",
      "source": [],
      "metadata": {
        "id": "8e70lcgNGzKd"
      },
      "execution_count": null,
      "outputs": []
    },
    {
      "cell_type": "code",
      "source": [
        "# Define the classification head\n",
        "num_classes = len(set(dataset.labels))\n",
        "classifier_head = nn.Linear(512, num_classes).to(device)"
      ],
      "metadata": {
        "id": "Pc4HDyDDdZ4o"
      },
      "execution_count": 12,
      "outputs": []
    },
    {
      "cell_type": "code",
      "source": [
        "# Define the optimizer and loss function\n",
        "optimizer = optim.Adam(classifier_head.parameters(), lr=0.001)\n",
        "criterion = nn.CrossEntropyLoss()"
      ],
      "metadata": {
        "id": "OfJ2jBf_eY6R"
      },
      "execution_count": 13,
      "outputs": []
    },
    {
      "cell_type": "code",
      "source": [
        "# Train the classification head\n",
        "num_epochs = 100\n",
        "for epoch in range(num_epochs):\n",
        "    classifier_head.train()\n",
        "    total_loss = 0.0\n",
        "    total_correct = 0\n",
        "    total_samples = 0\n",
        "\n",
        "    for images, labels in train_loader:\n",
        "        images = images.to(device)\n",
        "        labels = labels.to(device)\n",
        "\n",
        "        with torch.no_grad():\n",
        "            image_features = model.encode_image(images)\n",
        "\n",
        "        # Convert the data type of image_features to match the classifier's weight matrix\n",
        "        image_features = image_features.to(classifier_head.weight.dtype)\n",
        "\n",
        "        optimizer.zero_grad()\n",
        "        logits = classifier_head(image_features)\n",
        "\n",
        "        # Convert logits data type to torch.float32 for softmax\n",
        "        logits = logits.to(torch.float32)\n",
        "\n",
        "        loss = criterion(logits, labels)  # No need to convert labels to torch.long data type\n",
        "        loss.backward()\n",
        "        optimizer.step()\n",
        "\n",
        "        total_loss += loss.item()\n",
        "        _, predicted_labels = logits.max(1)\n",
        "        total_correct += (predicted_labels == labels).sum().item()\n",
        "        total_samples += labels.size(0)\n",
        "\n",
        "    # Calculate accuracy\n",
        "    accuracy = total_correct / total_samples\n",
        "\n",
        "    print(f\"Epoch [{epoch+1}/{num_epochs}] - Loss: {total_loss:.4f} - Accuracy: {accuracy:.4f}\")\n"
      ],
      "metadata": {
        "colab": {
          "base_uri": "https://localhost:8080/"
        },
        "id": "lFci99mWddoD",
        "outputId": "909ec061-e077-48db-e7c7-0cdde77a01ae"
      },
      "execution_count": 14,
      "outputs": [
        {
          "output_type": "stream",
          "name": "stdout",
          "text": [
            "Epoch [1/100] - Loss: 24.7738 - Accuracy: 0.7350\n",
            "Epoch [2/100] - Loss: 19.7557 - Accuracy: 0.8043\n",
            "Epoch [3/100] - Loss: 17.9082 - Accuracy: 0.8179\n",
            "Epoch [4/100] - Loss: 16.7418 - Accuracy: 0.8429\n",
            "Epoch [5/100] - Loss: 15.8821 - Accuracy: 0.8550\n",
            "Epoch [6/100] - Loss: 15.4141 - Accuracy: 0.8529\n",
            "Epoch [7/100] - Loss: 14.7263 - Accuracy: 0.8679\n",
            "Epoch [8/100] - Loss: 14.3261 - Accuracy: 0.8664\n",
            "Epoch [9/100] - Loss: 13.8878 - Accuracy: 0.8757\n",
            "Epoch [10/100] - Loss: 13.6610 - Accuracy: 0.8771\n",
            "Epoch [11/100] - Loss: 13.3734 - Accuracy: 0.8793\n",
            "Epoch [12/100] - Loss: 13.0265 - Accuracy: 0.8821\n",
            "Epoch [13/100] - Loss: 12.7824 - Accuracy: 0.8879\n",
            "Epoch [14/100] - Loss: 12.5594 - Accuracy: 0.8900\n",
            "Epoch [15/100] - Loss: 12.2828 - Accuracy: 0.8979\n",
            "Epoch [16/100] - Loss: 12.1541 - Accuracy: 0.8964\n",
            "Epoch [17/100] - Loss: 12.0887 - Accuracy: 0.8964\n",
            "Epoch [18/100] - Loss: 11.8951 - Accuracy: 0.8971\n",
            "Epoch [19/100] - Loss: 11.5670 - Accuracy: 0.9036\n",
            "Epoch [20/100] - Loss: 11.4439 - Accuracy: 0.9043\n",
            "Epoch [21/100] - Loss: 11.2599 - Accuracy: 0.9093\n",
            "Epoch [22/100] - Loss: 11.1625 - Accuracy: 0.9100\n",
            "Epoch [23/100] - Loss: 11.0349 - Accuracy: 0.9100\n",
            "Epoch [24/100] - Loss: 10.9327 - Accuracy: 0.9136\n",
            "Epoch [25/100] - Loss: 10.7295 - Accuracy: 0.9129\n",
            "Epoch [26/100] - Loss: 10.6401 - Accuracy: 0.9129\n",
            "Epoch [27/100] - Loss: 10.5184 - Accuracy: 0.9143\n",
            "Epoch [28/100] - Loss: 10.4008 - Accuracy: 0.9171\n",
            "Epoch [29/100] - Loss: 10.2697 - Accuracy: 0.9157\n",
            "Epoch [30/100] - Loss: 10.2067 - Accuracy: 0.9186\n",
            "Epoch [31/100] - Loss: 10.1119 - Accuracy: 0.9171\n",
            "Epoch [32/100] - Loss: 10.0332 - Accuracy: 0.9179\n",
            "Epoch [33/100] - Loss: 9.9543 - Accuracy: 0.9193\n",
            "Epoch [34/100] - Loss: 9.8510 - Accuracy: 0.9221\n",
            "Epoch [35/100] - Loss: 9.8125 - Accuracy: 0.9214\n",
            "Epoch [36/100] - Loss: 9.6859 - Accuracy: 0.9214\n",
            "Epoch [37/100] - Loss: 9.6481 - Accuracy: 0.9200\n",
            "Epoch [38/100] - Loss: 9.6016 - Accuracy: 0.9250\n",
            "Epoch [39/100] - Loss: 9.4690 - Accuracy: 0.9286\n",
            "Epoch [40/100] - Loss: 9.3719 - Accuracy: 0.9229\n",
            "Epoch [41/100] - Loss: 9.3448 - Accuracy: 0.9243\n",
            "Epoch [42/100] - Loss: 9.2919 - Accuracy: 0.9286\n",
            "Epoch [43/100] - Loss: 9.1996 - Accuracy: 0.9279\n",
            "Epoch [44/100] - Loss: 9.1826 - Accuracy: 0.9250\n",
            "Epoch [45/100] - Loss: 9.0516 - Accuracy: 0.9243\n",
            "Epoch [46/100] - Loss: 9.0490 - Accuracy: 0.9257\n",
            "Epoch [47/100] - Loss: 8.9592 - Accuracy: 0.9300\n",
            "Epoch [48/100] - Loss: 8.9222 - Accuracy: 0.9293\n",
            "Epoch [49/100] - Loss: 8.8212 - Accuracy: 0.9264\n",
            "Epoch [50/100] - Loss: 8.8752 - Accuracy: 0.9293\n",
            "Epoch [51/100] - Loss: 8.7343 - Accuracy: 0.9314\n",
            "Epoch [52/100] - Loss: 8.6346 - Accuracy: 0.9364\n",
            "Epoch [53/100] - Loss: 8.7203 - Accuracy: 0.9336\n",
            "Epoch [54/100] - Loss: 8.5444 - Accuracy: 0.9329\n",
            "Epoch [55/100] - Loss: 8.5946 - Accuracy: 0.9307\n",
            "Epoch [56/100] - Loss: 8.5133 - Accuracy: 0.9343\n",
            "Epoch [57/100] - Loss: 8.4316 - Accuracy: 0.9329\n",
            "Epoch [58/100] - Loss: 8.3647 - Accuracy: 0.9364\n",
            "Epoch [59/100] - Loss: 8.3738 - Accuracy: 0.9307\n",
            "Epoch [60/100] - Loss: 8.3214 - Accuracy: 0.9329\n",
            "Epoch [61/100] - Loss: 8.2448 - Accuracy: 0.9321\n",
            "Epoch [62/100] - Loss: 8.2458 - Accuracy: 0.9386\n",
            "Epoch [63/100] - Loss: 8.2806 - Accuracy: 0.9350\n",
            "Epoch [64/100] - Loss: 8.1416 - Accuracy: 0.9343\n",
            "Epoch [65/100] - Loss: 8.0934 - Accuracy: 0.9386\n",
            "Epoch [66/100] - Loss: 8.0515 - Accuracy: 0.9386\n",
            "Epoch [67/100] - Loss: 8.0050 - Accuracy: 0.9400\n",
            "Epoch [68/100] - Loss: 8.0025 - Accuracy: 0.9400\n",
            "Epoch [69/100] - Loss: 7.9757 - Accuracy: 0.9393\n",
            "Epoch [70/100] - Loss: 7.9103 - Accuracy: 0.9386\n",
            "Epoch [71/100] - Loss: 7.8716 - Accuracy: 0.9371\n",
            "Epoch [72/100] - Loss: 7.8581 - Accuracy: 0.9364\n",
            "Epoch [73/100] - Loss: 7.8252 - Accuracy: 0.9400\n",
            "Epoch [74/100] - Loss: 7.7378 - Accuracy: 0.9379\n",
            "Epoch [75/100] - Loss: 7.6947 - Accuracy: 0.9393\n",
            "Epoch [76/100] - Loss: 7.7166 - Accuracy: 0.9407\n",
            "Epoch [77/100] - Loss: 7.6775 - Accuracy: 0.9379\n",
            "Epoch [78/100] - Loss: 7.6241 - Accuracy: 0.9414\n",
            "Epoch [79/100] - Loss: 7.6134 - Accuracy: 0.9436\n",
            "Epoch [80/100] - Loss: 7.5409 - Accuracy: 0.9414\n",
            "Epoch [81/100] - Loss: 7.5537 - Accuracy: 0.9429\n",
            "Epoch [82/100] - Loss: 7.5456 - Accuracy: 0.9400\n",
            "Epoch [83/100] - Loss: 7.4668 - Accuracy: 0.9436\n",
            "Epoch [84/100] - Loss: 7.4498 - Accuracy: 0.9436\n",
            "Epoch [85/100] - Loss: 7.4166 - Accuracy: 0.9429\n",
            "Epoch [86/100] - Loss: 7.4007 - Accuracy: 0.9421\n",
            "Epoch [87/100] - Loss: 7.3771 - Accuracy: 0.9471\n",
            "Epoch [88/100] - Loss: 7.3079 - Accuracy: 0.9443\n",
            "Epoch [89/100] - Loss: 7.2984 - Accuracy: 0.9464\n",
            "Epoch [90/100] - Loss: 7.2395 - Accuracy: 0.9457\n",
            "Epoch [91/100] - Loss: 7.1527 - Accuracy: 0.9464\n",
            "Epoch [92/100] - Loss: 7.2142 - Accuracy: 0.9479\n",
            "Epoch [93/100] - Loss: 7.1505 - Accuracy: 0.9471\n",
            "Epoch [94/100] - Loss: 7.1635 - Accuracy: 0.9457\n",
            "Epoch [95/100] - Loss: 7.1560 - Accuracy: 0.9464\n",
            "Epoch [96/100] - Loss: 7.1481 - Accuracy: 0.9479\n",
            "Epoch [97/100] - Loss: 7.1496 - Accuracy: 0.9450\n",
            "Epoch [98/100] - Loss: 7.0657 - Accuracy: 0.9471\n",
            "Epoch [99/100] - Loss: 7.0047 - Accuracy: 0.9457\n",
            "Epoch [100/100] - Loss: 7.0141 - Accuracy: 0.9471\n"
          ]
        }
      ]
    },
    {
      "cell_type": "code",
      "source": [
        "# Step 9: Model Evaluation for Nature Classification\n",
        "nature_pred = []\n",
        "nature_labels = []\n",
        "classifier_head.eval()\n",
        "with torch.no_grad():\n",
        "    for images, labels in train_loader:\n",
        "        images = images.to(device)\n",
        "        labels = labels.to(device)\n",
        "        image_features = model.encode_image(images)\n",
        "\n",
        "        # Convert the data type of image_features to match the classifier's weight matrix\n",
        "        image_features = image_features.to(classifier_head.weight.dtype)\n",
        "\n",
        "        logits = classifier_head(image_features)\n",
        "        pred = logits.argmax(dim=-1).cpu().numpy()\n",
        "        nature_pred.extend(pred)\n",
        "        nature_labels.extend(labels.cpu().numpy())\n",
        "\n",
        "nature_accuracy = accuracy_score(nature_labels, nature_pred)\n",
        "nature_precision = precision_score(nature_labels, nature_pred, average='weighted')\n",
        "nature_recall = recall_score(nature_labels, nature_pred, average='weighted')\n",
        "nature_f1_score = f1_score(nature_labels, nature_pred, average='weighted')\n",
        "\n",
        "print(\"Nature Accuracy:\", nature_accuracy)\n",
        "print(\"Nature Precision:\", nature_precision)\n",
        "print(\"Nature Recall:\", nature_recall)\n",
        "print(\"Nature F1-score:\", nature_f1_score)\n"
      ],
      "metadata": {
        "colab": {
          "base_uri": "https://localhost:8080/"
        },
        "id": "uJX7b_irddwf",
        "outputId": "ef432506-395e-4b0c-a5cc-cb523bb695f5"
      },
      "execution_count": 15,
      "outputs": [
        {
          "output_type": "stream",
          "name": "stdout",
          "text": [
            "Nature Accuracy: 0.9492857142857143\n",
            "Nature Precision: 0.9494514443156722\n",
            "Nature Recall: 0.9492857142857143\n",
            "Nature F1-score: 0.9492867234011351\n"
          ]
        }
      ]
    },
    {
      "cell_type": "code",
      "source": [
        "import matplotlib.pyplot as plt\n",
        "# Step 14: Visualize evaluation metrics\n",
        "metrics_names = ['Nature Accuracy', 'Nature Precision', 'Nature Recall', 'Nature F1-score']\n",
        "metrics_values = [nature_accuracy, nature_precision, nature_recall, nature_f1_score]\n",
        "\n",
        "plt.figure(figsize=(10, 6))\n",
        "plt.bar(metrics_names, metrics_values, color=['blue', 'green', 'orange', 'red'])\n",
        "plt.xlabel('Metrics')\n",
        "plt.ylabel('Values')\n",
        "plt.title('Evaluation Metrics for Nature Classification')\n",
        "plt.ylim(0, 1)  # Set the y-axis limits between 0 and 1\n",
        "plt.show()"
      ],
      "metadata": {
        "colab": {
          "base_uri": "https://localhost:8080/",
          "height": 564
        },
        "id": "h0SX0r2zIbt4",
        "outputId": "5166ea31-8a46-42da-893d-f1f590f5e923"
      },
      "execution_count": 16,
      "outputs": [
        {
          "output_type": "display_data",
          "data": {
            "text/plain": [
              "<Figure size 1000x600 with 1 Axes>"
            ],
            "image/png": "[encoded data removed]"
          },
          "metadata": {}
        }
      ]
    },
    {
      "cell_type": "code",
      "source": [
        "nature_pred = []\n",
        "nature_labels = []\n",
        "classifier_head.eval()\n",
        "with torch.no_grad():\n",
        "    for images, labels in train_loader:\n",
        "        images = images.to(device)\n",
        "        labels = labels.to(device)\n",
        "        image_features = model.encode_image(images)\n",
        "\n",
        "        # Convert the data type of image_features to match the classifier's weight matrix\n",
        "        image_features = image_features.to(classifier_head.weight.dtype)\n",
        "\n",
        "        logits = classifier_head(image_features)\n",
        "        pred = logits.argmax(dim=-1).cpu().numpy()\n",
        "        nature_pred.extend(pred)\n",
        "        nature_labels.extend(labels.cpu().numpy())\n",
        "\n",
        "nature_accuracy = accuracy_score(nature_labels, nature_pred)\n",
        "\n",
        "print(\"Nature Accuracy:\", nature_accuracy)\n",
        "\n",
        "# Plotting the accuracy as a bar\n",
        "plt.bar(['Nature Accuracy'], [nature_accuracy], color='blue')\n",
        "plt.xlabel('Metrics')\n",
        "plt.ylabel('Scores')\n",
        "plt.title('Nature Classification Accuracy')\n",
        "plt.ylim(0.0, 1.0)\n",
        "plt.show()"
      ],
      "metadata": {
        "colab": {
          "base_uri": "https://localhost:8080/",
          "height": 489
        },
        "id": "8a9yuAwWzV4e",
        "outputId": "34f427b1-8bff-4d06-90dd-ea0aeeab8b34"
      },
      "execution_count": 19,
      "outputs": [
        {
          "output_type": "stream",
          "name": "stdout",
          "text": [
            "Nature Accuracy: 0.9492857142857143\n"
          ]
        },
        {
          "output_type": "display_data",
          "data": {
            "text/plain": [
              "<Figure size 640x480 with 1 Axes>"
            ],
            "image/png": "[encoded data removed]"
          },
          "metadata": {}
        }
      ]
    },
    {
      "cell_type": "code",
      "source": [
        "# Inside the training loop\n",
        "for epoch in range(num_epochs):\n",
        "    # ... (other training code)\n",
        "\n",
        "    # Calculate accuracy\n",
        "    accuracy = total_correct / total_samples\n",
        "\n",
        "    # Append loss and accuracy to their respective lists\n",
        "    loss_values.append(total_loss)\n",
        "    accuracy_values.append(accuracy)\n",
        "\n",
        "    print(f\"Epoch [{epoch+1}/{num_epochs}] - Loss: {total_loss:.4f} - Accuracy: {accuracy:.4f}\")\n",
        "\n",
        "# After the training loop\n",
        "plt.figure(figsize=(10, 6))\n",
        "plt.plot(range(1, num_epochs+1), loss_values, label='Loss', color='red')\n",
        "plt.plot(range(1, num_epochs+1), accuracy_values, label='Accuracy', color='blue')\n",
        "plt.xlabel('Epochs')\n",
        "plt.ylabel('Value')\n",
        "plt.title('Loss and Accuracy During Training')\n",
        "plt.legend()\n",
        "plt.grid()\n",
        "plt.show()\n"
      ],
      "metadata": {
        "colab": {
          "base_uri": "https://localhost:8080/",
          "height": 1000
        },
        "id": "OlH1GzLM22Ze",
        "outputId": "05174e1a-1f08-40f3-8f27-8d658a186c3d"
      },
      "execution_count": 24,
      "outputs": [
        {
          "output_type": "stream",
          "name": "stdout",
          "text": [
            "Epoch [1/100] - Loss: 7.0141 - Accuracy: 0.9471\n",
            "Epoch [2/100] - Loss: 7.0141 - Accuracy: 0.9471\n",
            "Epoch [3/100] - Loss: 7.0141 - Accuracy: 0.9471\n",
            "Epoch [4/100] - Loss: 7.0141 - Accuracy: 0.9471\n",
            "Epoch [5/100] - Loss: 7.0141 - Accuracy: 0.9471\n",
            "Epoch [6/100] - Loss: 7.0141 - Accuracy: 0.9471\n",
            "Epoch [7/100] - Loss: 7.0141 - Accuracy: 0.9471\n",
            "Epoch [8/100] - Loss: 7.0141 - Accuracy: 0.9471\n",
            "Epoch [9/100] - Loss: 7.0141 - Accuracy: 0.9471\n",
            "Epoch [10/100] - Loss: 7.0141 - Accuracy: 0.9471\n",
            "Epoch [11/100] - Loss: 7.0141 - Accuracy: 0.9471\n",
            "Epoch [12/100] - Loss: 7.0141 - Accuracy: 0.9471\n",
            "Epoch [13/100] - Loss: 7.0141 - Accuracy: 0.9471\n",
            "Epoch [14/100] - Loss: 7.0141 - Accuracy: 0.9471\n",
            "Epoch [15/100] - Loss: 7.0141 - Accuracy: 0.9471\n",
            "Epoch [16/100] - Loss: 7.0141 - Accuracy: 0.9471\n",
            "Epoch [17/100] - Loss: 7.0141 - Accuracy: 0.9471\n",
            "Epoch [18/100] - Loss: 7.0141 - Accuracy: 0.9471\n",
            "Epoch [19/100] - Loss: 7.0141 - Accuracy: 0.9471\n",
            "Epoch [20/100] - Loss: 7.0141 - Accuracy: 0.9471\n",
            "Epoch [21/100] - Loss: 7.0141 - Accuracy: 0.9471\n",
            "Epoch [22/100] - Loss: 7.0141 - Accuracy: 0.9471\n",
            "Epoch [23/100] - Loss: 7.0141 - Accuracy: 0.9471\n",
            "Epoch [24/100] - Loss: 7.0141 - Accuracy: 0.9471\n",
            "Epoch [25/100] - Loss: 7.0141 - Accuracy: 0.9471\n",
            "Epoch [26/100] - Loss: 7.0141 - Accuracy: 0.9471\n",
            "Epoch [27/100] - Loss: 7.0141 - Accuracy: 0.9471\n",
            "Epoch [28/100] - Loss: 7.0141 - Accuracy: 0.9471\n",
            "Epoch [29/100] - Loss: 7.0141 - Accuracy: 0.9471\n",
            "Epoch [30/100] - Loss: 7.0141 - Accuracy: 0.9471\n",
            "Epoch [31/100] - Loss: 7.0141 - Accuracy: 0.9471\n",
            "Epoch [32/100] - Loss: 7.0141 - Accuracy: 0.9471\n",
            "Epoch [33/100] - Loss: 7.0141 - Accuracy: 0.9471\n",
            "Epoch [34/100] - Loss: 7.0141 - Accuracy: 0.9471\n",
            "Epoch [35/100] - Loss: 7.0141 - Accuracy: 0.9471\n",
            "Epoch [36/100] - Loss: 7.0141 - Accuracy: 0.9471\n",
            "Epoch [37/100] - Loss: 7.0141 - Accuracy: 0.9471\n",
            "Epoch [38/100] - Loss: 7.0141 - Accuracy: 0.9471\n",
            "Epoch [39/100] - Loss: 7.0141 - Accuracy: 0.9471\n",
            "Epoch [40/100] - Loss: 7.0141 - Accuracy: 0.9471\n",
            "Epoch [41/100] - Loss: 7.0141 - Accuracy: 0.9471\n",
            "Epoch [42/100] - Loss: 7.0141 - Accuracy: 0.9471\n",
            "Epoch [43/100] - Loss: 7.0141 - Accuracy: 0.9471\n",
            "Epoch [44/100] - Loss: 7.0141 - Accuracy: 0.9471\n",
            "Epoch [45/100] - Loss: 7.0141 - Accuracy: 0.9471\n",
            "Epoch [46/100] - Loss: 7.0141 - Accuracy: 0.9471\n",
            "Epoch [47/100] - Loss: 7.0141 - Accuracy: 0.9471\n",
            "Epoch [48/100] - Loss: 7.0141 - Accuracy: 0.9471\n",
            "Epoch [49/100] - Loss: 7.0141 - Accuracy: 0.9471\n",
            "Epoch [50/100] - Loss: 7.0141 - Accuracy: 0.9471\n",
            "Epoch [51/100] - Loss: 7.0141 - Accuracy: 0.9471\n",
            "Epoch [52/100] - Loss: 7.0141 - Accuracy: 0.9471\n",
            "Epoch [53/100] - Loss: 7.0141 - Accuracy: 0.9471\n",
            "Epoch [54/100] - Loss: 7.0141 - Accuracy: 0.9471\n",
            "Epoch [55/100] - Loss: 7.0141 - Accuracy: 0.9471\n",
            "Epoch [56/100] - Loss: 7.0141 - Accuracy: 0.9471\n",
            "Epoch [57/100] - Loss: 7.0141 - Accuracy: 0.9471\n",
            "Epoch [58/100] - Loss: 7.0141 - Accuracy: 0.9471\n",
            "Epoch [59/100] - Loss: 7.0141 - Accuracy: 0.9471\n",
            "Epoch [60/100] - Loss: 7.0141 - Accuracy: 0.9471\n",
            "Epoch [61/100] - Loss: 7.0141 - Accuracy: 0.9471\n",
            "Epoch [62/100] - Loss: 7.0141 - Accuracy: 0.9471\n",
            "Epoch [63/100] - Loss: 7.0141 - Accuracy: 0.9471\n",
            "Epoch [64/100] - Loss: 7.0141 - Accuracy: 0.9471\n",
            "Epoch [65/100] - Loss: 7.0141 - Accuracy: 0.9471\n",
            "Epoch [66/100] - Loss: 7.0141 - Accuracy: 0.9471\n",
            "Epoch [67/100] - Loss: 7.0141 - Accuracy: 0.9471\n",
            "Epoch [68/100] - Loss: 7.0141 - Accuracy: 0.9471\n",
            "Epoch [69/100] - Loss: 7.0141 - Accuracy: 0.9471\n",
            "Epoch [70/100] - Loss: 7.0141 - Accuracy: 0.9471\n",
            "Epoch [71/100] - Loss: 7.0141 - Accuracy: 0.9471\n",
            "Epoch [72/100] - Loss: 7.0141 - Accuracy: 0.9471\n",
            "Epoch [73/100] - Loss: 7.0141 - Accuracy: 0.9471\n",
            "Epoch [74/100] - Loss: 7.0141 - Accuracy: 0.9471\n",
            "Epoch [75/100] - Loss: 7.0141 - Accuracy: 0.9471\n",
            "Epoch [76/100] - Loss: 7.0141 - Accuracy: 0.9471\n",
            "Epoch [77/100] - Loss: 7.0141 - Accuracy: 0.9471\n",
            "Epoch [78/100] - Loss: 7.0141 - Accuracy: 0.9471\n",
            "Epoch [79/100] - Loss: 7.0141 - Accuracy: 0.9471\n",
            "Epoch [80/100] - Loss: 7.0141 - Accuracy: 0.9471\n",
            "Epoch [81/100] - Loss: 7.0141 - Accuracy: 0.9471\n",
            "Epoch [82/100] - Loss: 7.0141 - Accuracy: 0.9471\n",
            "Epoch [83/100] - Loss: 7.0141 - Accuracy: 0.9471\n",
            "Epoch [84/100] - Loss: 7.0141 - Accuracy: 0.9471\n",
            "Epoch [85/100] - Loss: 7.0141 - Accuracy: 0.9471\n",
            "Epoch [86/100] - Loss: 7.0141 - Accuracy: 0.9471\n",
            "Epoch [87/100] - Loss: 7.0141 - Accuracy: 0.9471\n",
            "Epoch [88/100] - Loss: 7.0141 - Accuracy: 0.9471\n",
            "Epoch [89/100] - Loss: 7.0141 - Accuracy: 0.9471\n",
            "Epoch [90/100] - Loss: 7.0141 - Accuracy: 0.9471\n",
            "Epoch [91/100] - Loss: 7.0141 - Accuracy: 0.9471\n",
            "Epoch [92/100] - Loss: 7.0141 - Accuracy: 0.9471\n",
            "Epoch [93/100] - Loss: 7.0141 - Accuracy: 0.9471\n",
            "Epoch [94/100] - Loss: 7.0141 - Accuracy: 0.9471\n",
            "Epoch [95/100] - Loss: 7.0141 - Accuracy: 0.9471\n",
            "Epoch [96/100] - Loss: 7.0141 - Accuracy: 0.9471\n",
            "Epoch [97/100] - Loss: 7.0141 - Accuracy: 0.9471\n",
            "Epoch [98/100] - Loss: 7.0141 - Accuracy: 0.9471\n",
            "Epoch [99/100] - Loss: 7.0141 - Accuracy: 0.9471\n",
            "Epoch [100/100] - Loss: 7.0141 - Accuracy: 0.9471\n"
          ]
        },
        {
          "output_type": "display_data",
          "data": {
            "text/plain": [
              "<Figure size 1000x600 with 1 Axes>"
            ],
            "image/png": "[encoded data removed]"
          },
          "metadata": {}
        }
      ]
    },
    {
      "cell_type": "code",
      "source": [
        "# Step 10: Save Nature Model\n",
        "# Save the fine-tuned classifier head\n",
        "nature_model_file = 'nature--model.pt'\n",
        "torch.save(classifier_head.state_dict(), nature_model_file)\n",
        "print(\"Nature Model saved successfully.\")"
      ],
      "metadata": {
        "colab": {
          "base_uri": "https://localhost:8080/"
        },
        "id": "HDDxYPHFdoti",
        "outputId": "d59b531c-169c-430b-a646-c96ba3618fad"
      },
      "execution_count": null,
      "outputs": [
        {
          "output_type": "stream",
          "name": "stdout",
          "text": [
            "Nature Model saved successfully.\n"
          ]
        }
      ]
    }
  ]
}