{
  "nbformat": 4,
  "nbformat_minor": 0,
  "metadata": {
    "colab": {
      "provenance": [],
      "gpuType": "T4"
    },
    "kernelspec": {
      "name": "python3",
      "display_name": "Python 3"
    },
    "language_info": {
      "name": "python"
    },
    "accelerator": "GPU"
  },
  "cells": [
    {
      "cell_type": "code",
      "execution_count": 1,
      "metadata": {
        "colab": {
          "base_uri": "https://localhost:8080/"
        },
        "id": "cN2rsaCpcYNC",
        "outputId": "fabadfee-9191-4c35-81d7-463bb3b4a08a"
      },
      "outputs": [
        {
          "output_type": "stream",
          "name": "stdout",
          "text": [
            "Mounted at /content/gdrive\n"
          ]
        }
      ],
      "source": [
        "# needed to import dataset from google drive into colab\n",
        "from google.colab import drive\n",
        "drive.mount(\"/content/gdrive\")"
      ]
    },
    {
      "cell_type": "code",
      "source": [
        "cd gdrive"
      ],
      "metadata": {
        "colab": {
          "base_uri": "https://localhost:8080/"
        },
        "id": "s33b5qrPcnzj",
        "outputId": "a80e0a6e-ccb3-49d0-90c7-7c62a691b2b4"
      },
      "execution_count": 2,
      "outputs": [
        {
          "output_type": "stream",
          "name": "stdout",
          "text": [
            "/content/gdrive\n"
          ]
        }
      ]
    },
    {
      "cell_type": "code",
      "source": [
        "cd MyDrive"
      ],
      "metadata": {
        "colab": {
          "base_uri": "https://localhost:8080/"
        },
        "id": "q-OvvWRTc3s_",
        "outputId": "a1a25c25-1cfd-4433-c9c1-21009a5b621a"
      },
      "execution_count": 3,
      "outputs": [
        {
          "output_type": "stream",
          "name": "stdout",
          "text": [
            "/content/gdrive/MyDrive\n"
          ]
        }
      ]
    },
    {
      "cell_type": "code",
      "source": [
        "pip install git+https://github.com/openai/CLIP.git"
      ],
      "metadata": {
        "colab": {
          "base_uri": "https://localhost:8080/"
        },
        "id": "2Bnkuzurc_dU",
        "outputId": "c322ee9e-b54d-4a95-d0be-fc9ddefeddc3"
      },
      "execution_count": 4,
      "outputs": [
        {
          "output_type": "stream",
          "name": "stdout",
          "text": [
            "Collecting git+https://github.com/openai/CLIP.git\n",
            "  Cloning https://github.com/openai/CLIP.git to /tmp/pip-req-build-_dov1v9s\n",
            "  Running command git clone --filter=blob:none --quiet https://github.com/openai/CLIP.git /tmp/pip-req-build-_dov1v9s\n",
            "  Resolved https://github.com/openai/CLIP.git to commit a1d071733d7111c9c014f024669f959182114e33\n",
            "  Preparing metadata (setup.py) ... \u001b[?25l\u001b[?25hdone\n",
            "Collecting ftfy (from clip==1.0)\n",
            "  Downloading ftfy-6.1.1-py3-none-any.whl (53 kB)\n",
            "\u001b[2K     \u001b[90m━━━━━━━━━━━━━━━━━━━━━━━━━━━━━━━━━━━━━━━\u001b[0m \u001b[32m53.1/53.1 kB\u001b[0m \u001b[31m834.3 kB/s\u001b[0m eta \u001b[36m0:00:00\u001b[0m\n",
            "\u001b[?25hRequirement already satisfied: regex in /usr/local/lib/python3.10/dist-packages (from clip==1.0) (2023.6.3)\n",
            "Requirement already satisfied: tqdm in /usr/local/lib/python3.10/dist-packages (from clip==1.0) (4.66.1)\n",
            "Requirement already satisfied: torch in /usr/local/lib/python3.10/dist-packages (from clip==1.0) (2.0.1+cu118)\n",
            "Requirement already satisfied: torchvision in /usr/local/lib/python3.10/dist-packages (from clip==1.0) (0.15.2+cu118)\n",
            "Requirement already satisfied: wcwidth>=0.2.5 in /usr/local/lib/python3.10/dist-packages (from ftfy->clip==1.0) (0.2.6)\n",
            "Requirement already satisfied: filelock in /usr/local/lib/python3.10/dist-packages (from torch->clip==1.0) (3.12.2)\n",
            "Requirement already satisfied: typing-extensions in /usr/local/lib/python3.10/dist-packages (from torch->clip==1.0) (4.7.1)\n",
            "Requirement already satisfied: sympy in /usr/local/lib/python3.10/dist-packages (from torch->clip==1.0) (1.12)\n",
            "Requirement already satisfied: networkx in /usr/local/lib/python3.10/dist-packages (from torch->clip==1.0) (3.1)\n",
            "Requirement already satisfied: jinja2 in /usr/local/lib/python3.10/dist-packages (from torch->clip==1.0) (3.1.2)\n",
            "Requirement already satisfied: triton==2.0.0 in /usr/local/lib/python3.10/dist-packages (from torch->clip==1.0) (2.0.0)\n",
            "Requirement already satisfied: cmake in /usr/local/lib/python3.10/dist-packages (from triton==2.0.0->torch->clip==1.0) (3.27.2)\n",
            "Requirement already satisfied: lit in /usr/local/lib/python3.10/dist-packages (from triton==2.0.0->torch->clip==1.0) (16.0.6)\n",
            "Requirement already satisfied: numpy in /usr/local/lib/python3.10/dist-packages (from torchvision->clip==1.0) (1.23.5)\n",
            "Requirement already satisfied: requests in /usr/local/lib/python3.10/dist-packages (from torchvision->clip==1.0) (2.31.0)\n",
            "Requirement already satisfied: pillow!=8.3.*,>=5.3.0 in /usr/local/lib/python3.10/dist-packages (from torchvision->clip==1.0) (9.4.0)\n",
            "Requirement already satisfied: MarkupSafe>=2.0 in /usr/local/lib/python3.10/dist-packages (from jinja2->torch->clip==1.0) (2.1.3)\n",
            "Requirement already satisfied: charset-normalizer<4,>=2 in /usr/local/lib/python3.10/dist-packages (from requests->torchvision->clip==1.0) (3.2.0)\n",
            "Requirement already satisfied: idna<4,>=2.5 in /usr/local/lib/python3.10/dist-packages (from requests->torchvision->clip==1.0) (3.4)\n",
            "Requirement already satisfied: urllib3<3,>=1.21.1 in /usr/local/lib/python3.10/dist-packages (from requests->torchvision->clip==1.0) (2.0.4)\n",
            "Requirement already satisfied: certifi>=2017.4.17 in /usr/local/lib/python3.10/dist-packages (from requests->torchvision->clip==1.0) (2023.7.22)\n",
            "Requirement already satisfied: mpmath>=0.19 in /usr/local/lib/python3.10/dist-packages (from sympy->torch->clip==1.0) (1.3.0)\n",
            "Building wheels for collected packages: clip\n",
            "  Building wheel for clip (setup.py) ... \u001b[?25l\u001b[?25hdone\n",
            "  Created wheel for clip: filename=clip-1.0-py3-none-any.whl size=1369499 sha256=821e5b6ee3377f2a062ba7201895fb1f2fe833b73890961942dbbdffaa2bcd0c\n",
            "  Stored in directory: /tmp/pip-ephem-wheel-cache-pan816z8/wheels/da/2b/4c/d6691fa9597aac8bb85d2ac13b112deb897d5b50f5ad9a37e4\n",
            "Successfully built clip\n",
            "Installing collected packages: ftfy, clip\n",
            "Successfully installed clip-1.0 ftfy-6.1.1\n"
          ]
        }
      ]
    },
    {
      "cell_type": "code",
      "source": [
        "import os\n",
        "import cv2\n",
        "import numpy as np\n",
        "import torch\n",
        "import torch.nn as nn\n",
        "import torch.optim as optim\n",
        "from torch.utils.data import DataLoader, Dataset\n",
        "from torchvision import transforms\n",
        "import clip\n",
        "from sklearn.metrics import accuracy_score, precision_score, recall_score, f1_score\n",
        "from sklearn.model_selection import train_test_split"
      ],
      "metadata": {
        "id": "JADCT01mc7RG"
      },
      "execution_count": 5,
      "outputs": []
    },
    {
      "cell_type": "code",
      "source": [
        "cnn_data_folder = 'cnn_dataset'"
      ],
      "metadata": {
        "id": "bumYHpvJdJnP"
      },
      "execution_count": 6,
      "outputs": []
    },
    {
      "cell_type": "code",
      "source": [
        "# Step 7: Load and Preprocess Images for Nature Classification\n",
        "class ImageDataset(Dataset):\n",
        "    def __init__(self, data_folder, transform=None):\n",
        "        self.data_folder = data_folder\n",
        "        self.transform = transform\n",
        "        self.images, self.labels = self.load_images()\n",
        "\n",
        "    def load_images(self):\n",
        "        images = []\n",
        "        labels = []\n",
        "        for class_label, class_name in enumerate(os.listdir(self.data_folder)):\n",
        "            class_folder = os.path.join(self.data_folder, class_name)\n",
        "            if not os.path.isdir(class_folder):\n",
        "                continue\n",
        "            for file_name in os.listdir(class_folder):\n",
        "                file_path = os.path.join(class_folder, file_name)\n",
        "                image = cv2.imread(file_path)\n",
        "                image = cv2.resize(image, (224, 224))  # Resize image to fit CLIP model input shape\n",
        "                label = class_label\n",
        "                images.append(image)\n",
        "                labels.append(label)\n",
        "        return np.array(images), np.array(labels)\n",
        "\n",
        "    def __len__(self):\n",
        "        return len(self.images)\n",
        "\n",
        "    def __getitem__(self, index):\n",
        "        image = self.images[index]\n",
        "        label = self.labels[index]\n",
        "        if self.transform:\n",
        "            image = self.transform(image)\n",
        "        return image, label"
      ],
      "metadata": {
        "id": "E5cZvhB9dR2M"
      },
      "execution_count": 7,
      "outputs": []
    },
    {
      "cell_type": "code",
      "source": [
        "# Define the transformation to normalize and convert image to tensor\n",
        "transform = transforms.Compose([\n",
        "    transforms.ToTensor(),\n",
        "    transforms.Normalize(mean=[0.5, 0.5, 0.5], std=[0.5, 0.5, 0.5])\n",
        "])"
      ],
      "metadata": {
        "id": "pVmpjOU_dR5A"
      },
      "execution_count": 8,
      "outputs": []
    },
    {
      "cell_type": "code",
      "source": [
        "# Load the fine-tuned CLIP model and tokenizer\n",
        "device = \"cuda\" if torch.cuda.is_available() else \"cpu\"\n",
        "model, preprocess = clip.load('ViT-B/32', device)"
      ],
      "metadata": {
        "id": "8xsIgUdvdR8Y"
      },
      "execution_count": 10,
      "outputs": []
    },
    {
      "cell_type": "code",
      "source": [
        "#  Split the dataset into train, validation, and test sets\n",
        "cnn_data_folder = 'cnn_dataset'\n",
        "transform = transforms.Compose([\n",
        "    transforms.ToTensor(),\n",
        "    transforms.Normalize(mean=[0.5, 0.5, 0.5], std=[0.5, 0.5, 0.5])\n",
        "])\n",
        "dataset = ImageDataset(cnn_data_folder, transform=transform)\n",
        "\n",
        "train_ratio = 0.7\n",
        "val_ratio = 0.15\n",
        "test_ratio = 0.15\n",
        "\n",
        "num_samples = len(dataset)\n",
        "num_train = int(train_ratio * num_samples)\n",
        "num_val = int(val_ratio * num_samples)\n",
        "num_test = num_samples - num_train - num_val\n",
        "\n",
        "train_set, temp_set = train_test_split(dataset, train_size=num_train)\n",
        "val_set, test_set = train_test_split(temp_set, train_size=num_val)\n",
        "\n",
        "train_loader = DataLoader(train_set, batch_size=32, shuffle=True)\n",
        "val_loader = DataLoader(val_set, batch_size=32, shuffle=False)\n",
        "test_loader = DataLoader(test_set, batch_size=32, shuffle=False)"
      ],
      "metadata": {
        "id": "bk7ZJtbkHPNb"
      },
      "execution_count": 12,
      "outputs": []
    },
    {
      "cell_type": "code",
      "source": [],
      "metadata": {
        "id": "8e70lcgNGzKd"
      },
      "execution_count": null,
      "outputs": []
    },
    {
      "cell_type": "code",
      "source": [
        "# Define the classification head\n",
        "num_classes = len(set(dataset.labels))\n",
        "classifier_head = nn.Linear(512, num_classes).to(device)"
      ],
      "metadata": {
        "id": "Pc4HDyDDdZ4o"
      },
      "execution_count": 13,
      "outputs": []
    },
    {
      "cell_type": "code",
      "source": [
        "# Define the optimizer and loss function\n",
        "optimizer = optim.Adam(classifier_head.parameters(), lr=0.001)\n",
        "criterion = nn.CrossEntropyLoss()"
      ],
      "metadata": {
        "id": "OfJ2jBf_eY6R"
      },
      "execution_count": 14,
      "outputs": []
    },
    {
      "cell_type": "code",
      "source": [
        "# Train the classification head\n",
        "num_epochs = 100\n",
        "for epoch in range(num_epochs):\n",
        "    classifier_head.train()\n",
        "    total_loss = 0.0\n",
        "    total_correct = 0\n",
        "    total_samples = 0\n",
        "\n",
        "    for images, labels in train_loader:\n",
        "        images = images.to(device)\n",
        "        labels = labels.to(device)\n",
        "\n",
        "        with torch.no_grad():\n",
        "            image_features = model.encode_image(images)\n",
        "\n",
        "        # Convert the data type of image_features to match the classifier's weight matrix\n",
        "        image_features = image_features.to(classifier_head.weight.dtype)\n",
        "\n",
        "        optimizer.zero_grad()\n",
        "        logits = classifier_head(image_features)\n",
        "\n",
        "        # Convert logits data type to torch.float32 for softmax\n",
        "        logits = logits.to(torch.float32)\n",
        "\n",
        "        loss = criterion(logits, labels)  # No need to convert labels to torch.long data type\n",
        "        loss.backward()\n",
        "        optimizer.step()\n",
        "\n",
        "        total_loss += loss.item()\n",
        "        _, predicted_labels = logits.max(1)\n",
        "        total_correct += (predicted_labels == labels).sum().item()\n",
        "        total_samples += labels.size(0)\n",
        "\n",
        "    # Calculate accuracy\n",
        "    accuracy = total_correct / total_samples\n",
        "\n",
        "    print(f\"Epoch [{epoch+1}/{num_epochs}] - Loss: {total_loss:.4f} - Accuracy: {accuracy:.4f}\")\n"
      ],
      "metadata": {
        "colab": {
          "base_uri": "https://localhost:8080/"
        },
        "id": "lFci99mWddoD",
        "outputId": "4870b98d-30bc-4093-b8be-58104ab0a621"
      },
      "execution_count": 15,
      "outputs": [
        {
          "output_type": "stream",
          "name": "stdout",
          "text": [
            "Epoch [1/100] - Loss: 25.6056 - Accuracy: 0.7029\n",
            "Epoch [2/100] - Loss: 20.0558 - Accuracy: 0.8079\n",
            "Epoch [3/100] - Loss: 18.0726 - Accuracy: 0.8293\n",
            "Epoch [4/100] - Loss: 16.9431 - Accuracy: 0.8371\n",
            "Epoch [5/100] - Loss: 16.1393 - Accuracy: 0.8514\n",
            "Epoch [6/100] - Loss: 15.4424 - Accuracy: 0.8514\n",
            "Epoch [7/100] - Loss: 14.8370 - Accuracy: 0.8607\n",
            "Epoch [8/100] - Loss: 14.4023 - Accuracy: 0.8686\n",
            "Epoch [9/100] - Loss: 14.0989 - Accuracy: 0.8736\n",
            "Epoch [10/100] - Loss: 13.7334 - Accuracy: 0.8764\n",
            "Epoch [11/100] - Loss: 13.3157 - Accuracy: 0.8786\n",
            "Epoch [12/100] - Loss: 13.0877 - Accuracy: 0.8857\n",
            "Epoch [13/100] - Loss: 12.9281 - Accuracy: 0.8829\n",
            "Epoch [14/100] - Loss: 12.6374 - Accuracy: 0.8907\n",
            "Epoch [15/100] - Loss: 12.3197 - Accuracy: 0.8943\n",
            "Epoch [16/100] - Loss: 12.1970 - Accuracy: 0.8986\n",
            "Epoch [17/100] - Loss: 11.9104 - Accuracy: 0.8971\n",
            "Epoch [18/100] - Loss: 11.9321 - Accuracy: 0.8929\n",
            "Epoch [19/100] - Loss: 11.6077 - Accuracy: 0.9043\n",
            "Epoch [20/100] - Loss: 11.4687 - Accuracy: 0.9007\n",
            "Epoch [21/100] - Loss: 11.2570 - Accuracy: 0.9071\n",
            "Epoch [22/100] - Loss: 11.2496 - Accuracy: 0.9079\n",
            "Epoch [23/100] - Loss: 11.1463 - Accuracy: 0.9071\n",
            "Epoch [24/100] - Loss: 10.9221 - Accuracy: 0.9086\n",
            "Epoch [25/100] - Loss: 10.8072 - Accuracy: 0.9064\n",
            "Epoch [26/100] - Loss: 10.6441 - Accuracy: 0.9107\n",
            "Epoch [27/100] - Loss: 10.5501 - Accuracy: 0.9114\n",
            "Epoch [28/100] - Loss: 10.5041 - Accuracy: 0.9086\n",
            "Epoch [29/100] - Loss: 10.3149 - Accuracy: 0.9143\n",
            "Epoch [30/100] - Loss: 10.2504 - Accuracy: 0.9164\n",
            "Epoch [31/100] - Loss: 10.2166 - Accuracy: 0.9157\n",
            "Epoch [32/100] - Loss: 10.0249 - Accuracy: 0.9157\n",
            "Epoch [33/100] - Loss: 9.9632 - Accuracy: 0.9129\n",
            "Epoch [34/100] - Loss: 9.8868 - Accuracy: 0.9164\n",
            "Epoch [35/100] - Loss: 9.8101 - Accuracy: 0.9157\n",
            "Epoch [36/100] - Loss: 9.6615 - Accuracy: 0.9164\n",
            "Epoch [37/100] - Loss: 9.5739 - Accuracy: 0.9171\n",
            "Epoch [38/100] - Loss: 9.5294 - Accuracy: 0.9214\n",
            "Epoch [39/100] - Loss: 9.4254 - Accuracy: 0.9207\n",
            "Epoch [40/100] - Loss: 9.3771 - Accuracy: 0.9200\n",
            "Epoch [41/100] - Loss: 9.3016 - Accuracy: 0.9257\n",
            "Epoch [42/100] - Loss: 9.1896 - Accuracy: 0.9229\n",
            "Epoch [43/100] - Loss: 9.1524 - Accuracy: 0.9221\n",
            "Epoch [44/100] - Loss: 9.0868 - Accuracy: 0.9250\n",
            "Epoch [45/100] - Loss: 9.0895 - Accuracy: 0.9293\n",
            "Epoch [46/100] - Loss: 8.9380 - Accuracy: 0.9250\n",
            "Epoch [47/100] - Loss: 8.9660 - Accuracy: 0.9271\n",
            "Epoch [48/100] - Loss: 8.8125 - Accuracy: 0.9336\n",
            "Epoch [49/100] - Loss: 8.7623 - Accuracy: 0.9293\n",
            "Epoch [50/100] - Loss: 8.6875 - Accuracy: 0.9286\n",
            "Epoch [51/100] - Loss: 8.6742 - Accuracy: 0.9286\n",
            "Epoch [52/100] - Loss: 8.6016 - Accuracy: 0.9257\n",
            "Epoch [53/100] - Loss: 8.5297 - Accuracy: 0.9321\n",
            "Epoch [54/100] - Loss: 8.5432 - Accuracy: 0.9300\n",
            "Epoch [55/100] - Loss: 8.4313 - Accuracy: 0.9286\n",
            "Epoch [56/100] - Loss: 8.3974 - Accuracy: 0.9357\n",
            "Epoch [57/100] - Loss: 8.3388 - Accuracy: 0.9336\n",
            "Epoch [58/100] - Loss: 8.2863 - Accuracy: 0.9357\n",
            "Epoch [59/100] - Loss: 8.3339 - Accuracy: 0.9307\n",
            "Epoch [60/100] - Loss: 8.2027 - Accuracy: 0.9350\n",
            "Epoch [61/100] - Loss: 8.1459 - Accuracy: 0.9343\n",
            "Epoch [62/100] - Loss: 8.1468 - Accuracy: 0.9364\n",
            "Epoch [63/100] - Loss: 8.0809 - Accuracy: 0.9350\n",
            "Epoch [64/100] - Loss: 7.9803 - Accuracy: 0.9371\n",
            "Epoch [65/100] - Loss: 8.0287 - Accuracy: 0.9386\n",
            "Epoch [66/100] - Loss: 7.9733 - Accuracy: 0.9379\n",
            "Epoch [67/100] - Loss: 7.8435 - Accuracy: 0.9393\n",
            "Epoch [68/100] - Loss: 7.8703 - Accuracy: 0.9414\n",
            "Epoch [69/100] - Loss: 7.7972 - Accuracy: 0.9379\n",
            "Epoch [70/100] - Loss: 7.8125 - Accuracy: 0.9386\n",
            "Epoch [71/100] - Loss: 7.7211 - Accuracy: 0.9429\n",
            "Epoch [72/100] - Loss: 7.6463 - Accuracy: 0.9414\n",
            "Epoch [73/100] - Loss: 7.6615 - Accuracy: 0.9407\n",
            "Epoch [74/100] - Loss: 7.6287 - Accuracy: 0.9414\n",
            "Epoch [75/100] - Loss: 7.6074 - Accuracy: 0.9407\n",
            "Epoch [76/100] - Loss: 7.5057 - Accuracy: 0.9450\n",
            "Epoch [77/100] - Loss: 7.5019 - Accuracy: 0.9457\n",
            "Epoch [78/100] - Loss: 7.4497 - Accuracy: 0.9443\n",
            "Epoch [79/100] - Loss: 7.4381 - Accuracy: 0.9443\n",
            "Epoch [80/100] - Loss: 7.3347 - Accuracy: 0.9471\n",
            "Epoch [81/100] - Loss: 7.3017 - Accuracy: 0.9464\n",
            "Epoch [82/100] - Loss: 7.3608 - Accuracy: 0.9464\n",
            "Epoch [83/100] - Loss: 7.2240 - Accuracy: 0.9429\n",
            "Epoch [84/100] - Loss: 7.2371 - Accuracy: 0.9479\n",
            "Epoch [85/100] - Loss: 7.1918 - Accuracy: 0.9486\n",
            "Epoch [86/100] - Loss: 7.1922 - Accuracy: 0.9471\n",
            "Epoch [87/100] - Loss: 7.1206 - Accuracy: 0.9479\n",
            "Epoch [88/100] - Loss: 7.1013 - Accuracy: 0.9471\n",
            "Epoch [89/100] - Loss: 7.0730 - Accuracy: 0.9471\n",
            "Epoch [90/100] - Loss: 7.0750 - Accuracy: 0.9493\n",
            "Epoch [91/100] - Loss: 7.0305 - Accuracy: 0.9486\n",
            "Epoch [92/100] - Loss: 6.9790 - Accuracy: 0.9521\n",
            "Epoch [93/100] - Loss: 6.9568 - Accuracy: 0.9471\n",
            "Epoch [94/100] - Loss: 6.9265 - Accuracy: 0.9493\n",
            "Epoch [95/100] - Loss: 7.0366 - Accuracy: 0.9507\n",
            "Epoch [96/100] - Loss: 6.9314 - Accuracy: 0.9443\n",
            "Epoch [97/100] - Loss: 6.8909 - Accuracy: 0.9486\n",
            "Epoch [98/100] - Loss: 6.8230 - Accuracy: 0.9529\n",
            "Epoch [99/100] - Loss: 6.7645 - Accuracy: 0.9486\n",
            "Epoch [100/100] - Loss: 6.8076 - Accuracy: 0.9471\n"
          ]
        }
      ]
    },
    {
      "cell_type": "code",
      "source": [
        "# Step 9: Model Evaluation for Nature Classification\n",
        "nature_pred = []\n",
        "nature_labels = []\n",
        "classifier_head.eval()\n",
        "with torch.no_grad():\n",
        "    for images, labels in train_loader:\n",
        "        images = images.to(device)\n",
        "        labels = labels.to(device)\n",
        "        image_features = model.encode_image(images)\n",
        "\n",
        "        # Convert the data type of image_features to match the classifier's weight matrix\n",
        "        image_features = image_features.to(classifier_head.weight.dtype)\n",
        "\n",
        "        logits = classifier_head(image_features)\n",
        "        pred = logits.argmax(dim=-1).cpu().numpy()\n",
        "        nature_pred.extend(pred)\n",
        "        nature_labels.extend(labels.cpu().numpy())\n",
        "\n",
        "nature_accuracy = accuracy_score(nature_labels, nature_pred)\n",
        "nature_precision = precision_score(nature_labels, nature_pred, average='weighted')\n",
        "nature_recall = recall_score(nature_labels, nature_pred, average='weighted')\n",
        "nature_f1_score = f1_score(nature_labels, nature_pred, average='weighted')\n",
        "\n",
        "print(\"Nature Accuracy:\", nature_accuracy)\n",
        "print(\"Nature Precision:\", nature_precision)\n",
        "print(\"Nature Recall:\", nature_recall)\n",
        "print(\"Nature F1-score:\", nature_f1_score)\n"
      ],
      "metadata": {
        "colab": {
          "base_uri": "https://localhost:8080/"
        },
        "id": "uJX7b_irddwf",
        "outputId": "c3fda804-adbd-4aad-f313-67ab0b5ddb86"
      },
      "execution_count": 16,
      "outputs": [
        {
          "output_type": "stream",
          "name": "stdout",
          "text": [
            "Nature Accuracy: 0.9542857142857143\n",
            "Nature Precision: 0.9544048166392994\n",
            "Nature Recall: 0.9542857142857143\n",
            "Nature F1-score: 0.9542750708758317\n"
          ]
        }
      ]
    },
    {
      "cell_type": "code",
      "source": [
        "import matplotlib.pyplot as plt\n",
        "# Step 14: Visualize evaluation metrics\n",
        "metrics_names = ['Nature Accuracy', 'Nature Precision', 'Nature Recall', 'Nature F1-score']\n",
        "metrics_values = [nature_accuracy, nature_precision, nature_recall, nature_f1_score]\n",
        "\n",
        "plt.figure(figsize=(10, 6))\n",
        "plt.bar(metrics_names, metrics_values, color=['blue', 'green', 'orange', 'red'])\n",
        "plt.xlabel('Metrics')\n",
        "plt.ylabel('Values')\n",
        "plt.title('Evaluation Metrics for Nature Classification')\n",
        "plt.ylim(0, 1)  # Set the y-axis limits between 0 and 1\n",
        "plt.show()"
      ],
      "metadata": {
        "colab": {
          "base_uri": "https://localhost:8080/",
          "height": 564
        },
        "id": "h0SX0r2zIbt4",
        "outputId": "085a5e0b-2b4a-43b6-d9a1-153ce5df4e5d"
      },
      "execution_count": 19,
      "outputs": [
        {
          "output_type": "display_data",
          "data": {
            "text/plain": [
              "<Figure size 1000x600 with 1 Axes>"
            ],
            "image/png": "[encoded data removed]"
          },
          "metadata": {}
        }
      ]
    },
    {
      "cell_type": "code",
      "source": [
        "# Step 10: Save Nature Model\n",
        "# Save the fine-tuned classifier head\n",
        "nature_model_file = 'nature--model.pt'\n",
        "torch.save(classifier_head.state_dict(), nature_model_file)\n",
        "print(\"Nature Model saved successfully.\")"
      ],
      "metadata": {
        "colab": {
          "base_uri": "https://localhost:8080/"
        },
        "id": "HDDxYPHFdoti",
        "outputId": "d59b531c-169c-430b-a646-c96ba3618fad"
      },
      "execution_count": 20,
      "outputs": [
        {
          "output_type": "stream",
          "name": "stdout",
          "text": [
            "Nature Model saved successfully.\n"
          ]
        }
      ]
    }
  ]
}