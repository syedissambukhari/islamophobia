{
  "nbformat": 4,
  "nbformat_minor": 0,
  "metadata": {
    "colab": {
      "provenance": [],
      "gpuType": "T4"
    },
    "kernelspec": {
      "name": "python3",
      "display_name": "Python 3"
    },
    "language_info": {
      "name": "python"
    },
    "accelerator": "GPU"
  },
  "cells": [
    {
      "cell_type": "code",
      "source": [
        "!pip install pytesseract"
      ],
      "metadata": {
        "colab": {
          "base_uri": "https://localhost:8080/"
        },
        "id": "D9DePH0M99Qh",
        "outputId": "94241e32-4863-4bb8-dba7-bab2d704a159"
      },
      "execution_count": 6,
      "outputs": [
        {
          "output_type": "stream",
          "name": "stdout",
          "text": [
            "Collecting pytesseract\n",
            "  Downloading pytesseract-0.3.10-py3-none-any.whl (14 kB)\n",
            "Requirement already satisfied: packaging>=21.3 in /usr/local/lib/python3.10/dist-packages (from pytesseract) (23.1)\n",
            "Requirement already satisfied: Pillow>=8.0.0 in /usr/local/lib/python3.10/dist-packages (from pytesseract) (9.4.0)\n",
            "Installing collected packages: pytesseract\n",
            "Successfully installed pytesseract-0.3.10\n"
          ]
        }
      ]
    },
    {
      "cell_type": "code",
      "source": [
        "!sudo apt install tesseract-ocr\n",
        "!sudo apt install libtesseract-dev"
      ],
      "metadata": {
        "colab": {
          "base_uri": "https://localhost:8080/"
        },
        "id": "OcReDxkU-UCZ",
        "outputId": "f3a11451-7ad3-413e-cef9-02b6a3b913a5"
      },
      "execution_count": 7,
      "outputs": [
        {
          "output_type": "stream",
          "name": "stdout",
          "text": [
            "Reading package lists... Done\n",
            "Building dependency tree... Done\n",
            "Reading state information... Done\n",
            "The following additional packages will be installed:\n",
            "  tesseract-ocr-eng tesseract-ocr-osd\n",
            "The following NEW packages will be installed:\n",
            "  tesseract-ocr tesseract-ocr-eng tesseract-ocr-osd\n",
            "0 upgraded, 3 newly installed, 0 to remove and 15 not upgraded.\n",
            "Need to get 4,816 kB of archives.\n",
            "After this operation, 15.6 MB of additional disk space will be used.\n",
            "Get:1 http://archive.ubuntu.com/ubuntu jammy/universe amd64 tesseract-ocr-eng all 1:4.00~git30-7274cfa-1.1 [1,591 kB]\n",
            "Get:2 http://archive.ubuntu.com/ubuntu jammy/universe amd64 tesseract-ocr-osd all 1:4.00~git30-7274cfa-1.1 [2,990 kB]\n",
            "Get:3 http://archive.ubuntu.com/ubuntu jammy/universe amd64 tesseract-ocr amd64 4.1.1-2.1build1 [236 kB]\n",
            "Fetched 4,816 kB in 3s (1,750 kB/s)\n",
            "debconf: unable to initialize frontend: Dialog\n",
            "debconf: (No usable dialog-like program is installed, so the dialog based frontend cannot be used. at /usr/share/perl5/Debconf/FrontEnd/Dialog.pm line 78, <> line 3.)\n",
            "debconf: falling back to frontend: Readline\n",
            "debconf: unable to initialize frontend: Readline\n",
            "debconf: (This frontend requires a controlling tty.)\n",
            "debconf: falling back to frontend: Teletype\n",
            "dpkg-preconfigure: unable to re-open stdin: \n",
            "Selecting previously unselected package tesseract-ocr-eng.\n",
            "(Reading database ... 120500 files and directories currently installed.)\n",
            "Preparing to unpack .../tesseract-ocr-eng_1%3a4.00~git30-7274cfa-1.1_all.deb ...\n",
            "Unpacking tesseract-ocr-eng (1:4.00~git30-7274cfa-1.1) ...\n",
            "Selecting previously unselected package tesseract-ocr-osd.\n",
            "Preparing to unpack .../tesseract-ocr-osd_1%3a4.00~git30-7274cfa-1.1_all.deb ...\n",
            "Unpacking tesseract-ocr-osd (1:4.00~git30-7274cfa-1.1) ...\n",
            "Selecting previously unselected package tesseract-ocr.\n",
            "Preparing to unpack .../tesseract-ocr_4.1.1-2.1build1_amd64.deb ...\n",
            "Unpacking tesseract-ocr (4.1.1-2.1build1) ...\n",
            "Setting up tesseract-ocr-eng (1:4.00~git30-7274cfa-1.1) ...\n",
            "Setting up tesseract-ocr-osd (1:4.00~git30-7274cfa-1.1) ...\n",
            "Setting up tesseract-ocr (4.1.1-2.1build1) ...\n",
            "Processing triggers for man-db (2.10.2-1) ...\n",
            "Reading package lists... Done\n",
            "Building dependency tree... Done\n",
            "Reading state information... Done\n",
            "The following additional packages will be installed:\n",
            "  libarchive-dev libleptonica-dev\n",
            "The following NEW packages will be installed:\n",
            "  libarchive-dev libleptonica-dev libtesseract-dev\n",
            "0 upgraded, 3 newly installed, 0 to remove and 15 not upgraded.\n",
            "Need to get 3,743 kB of archives.\n",
            "After this operation, 16.0 MB of additional disk space will be used.\n",
            "Get:1 http://archive.ubuntu.com/ubuntu jammy/main amd64 libarchive-dev amd64 3.6.0-1ubuntu1 [581 kB]\n",
            "Get:2 http://archive.ubuntu.com/ubuntu jammy/universe amd64 libleptonica-dev amd64 1.82.0-3build1 [1,562 kB]\n",
            "Get:3 http://archive.ubuntu.com/ubuntu jammy/universe amd64 libtesseract-dev amd64 4.1.1-2.1build1 [1,600 kB]\n",
            "Fetched 3,743 kB in 2s (1,512 kB/s)\n",
            "debconf: unable to initialize frontend: Dialog\n",
            "debconf: (No usable dialog-like program is installed, so the dialog based frontend cannot be used. at /usr/share/perl5/Debconf/FrontEnd/Dialog.pm line 78, <> line 3.)\n",
            "debconf: falling back to frontend: Readline\n",
            "debconf: unable to initialize frontend: Readline\n",
            "debconf: (This frontend requires a controlling tty.)\n",
            "debconf: falling back to frontend: Teletype\n",
            "dpkg-preconfigure: unable to re-open stdin: \n",
            "Selecting previously unselected package libarchive-dev:amd64.\n",
            "(Reading database ... 120547 files and directories currently installed.)\n",
            "Preparing to unpack .../libarchive-dev_3.6.0-1ubuntu1_amd64.deb ...\n",
            "Unpacking libarchive-dev:amd64 (3.6.0-1ubuntu1) ...\n",
            "Selecting previously unselected package libleptonica-dev.\n",
            "Preparing to unpack .../libleptonica-dev_1.82.0-3build1_amd64.deb ...\n",
            "Unpacking libleptonica-dev (1.82.0-3build1) ...\n",
            "Selecting previously unselected package libtesseract-dev:amd64.\n",
            "Preparing to unpack .../libtesseract-dev_4.1.1-2.1build1_amd64.deb ...\n",
            "Unpacking libtesseract-dev:amd64 (4.1.1-2.1build1) ...\n",
            "Setting up libleptonica-dev (1.82.0-3build1) ...\n",
            "Setting up libarchive-dev:amd64 (3.6.0-1ubuntu1) ...\n",
            "Setting up libtesseract-dev:amd64 (4.1.1-2.1build1) ...\n",
            "Processing triggers for man-db (2.10.2-1) ...\n"
          ]
        }
      ]
    },
    {
      "cell_type": "code",
      "execution_count": 1,
      "metadata": {
        "colab": {
          "base_uri": "https://localhost:8080/"
        },
        "id": "9VSizM2p9EIF",
        "outputId": "0953a090-12d9-48c7-c648-bda078cfc338"
      },
      "outputs": [
        {
          "output_type": "stream",
          "name": "stdout",
          "text": [
            "Mounted at /content/gdrive\n"
          ]
        }
      ],
      "source": [
        "# needed to import dataset from google drive into colab\n",
        "from google.colab import drive\n",
        "drive.mount(\"/content/gdrive\")"
      ]
    },
    {
      "cell_type": "code",
      "source": [
        "import os\n",
        "import cv2\n",
        "import pytesseract\n",
        "import numpy as np\n",
        "from sklearn.feature_extraction.text import TfidfVectorizer\n",
        "from sklearn.svm import SVC\n",
        "from sklearn.metrics import accuracy_score, precision_score, recall_score, f1_score\n",
        "import joblib\n",
        "from tensorflow.keras.models import Sequential\n",
        "from tensorflow.keras.layers import Conv2D, MaxPooling2D, Flatten, Dense\n",
        "import tensorflow.keras as keras\n",
        "import numpy as np\n",
        "import matplotlib.pyplot as plt\n",
        "from sklearn.metrics import accuracy_score, precision_score, recall_score, f1_score"
      ],
      "metadata": {
        "id": "zzK57Q4X-FKe"
      },
      "execution_count": 8,
      "outputs": []
    },
    {
      "cell_type": "code",
      "source": [
        "# Step 1: Data Preparation\n",
        "svc_data_folder = 'svc_dataset'  # Replace 'path/to/svc_data' with the actual path to the folder containing the images for the text classification\n",
        "cnn_data_folder = 'cnn_dataset'  # Replace 'path/to/cnn_data' with the actual path to the folder containing the images for the nature classification\n"
      ],
      "metadata": {
        "id": "DkGesyQg-JOd"
      },
      "execution_count": 9,
      "outputs": []
    },
    {
      "cell_type": "code",
      "source": [
        "# Step 2: Text Detection\n",
        "def extract_text_from_image(image_path):\n",
        "    img = cv2.imread(image_path)\n",
        "    gray = cv2.cvtColor(img, cv2.COLOR_BGR2GRAY)\n",
        "    text = pytesseract.image_to_string(gray)\n",
        "    return text\n"
      ],
      "metadata": {
        "id": "lRcB2Hra-Oml"
      },
      "execution_count": 10,
      "outputs": []
    },
    {
      "cell_type": "code",
      "source": [
        "# Step 3: Feature Extraction for Text Classification\n",
        "def extract_text_features(data_folder):\n",
        "    images = []\n",
        "    labels = []\n",
        "    for class_label, class_name in enumerate(os.listdir(data_folder)):\n",
        "        class_folder = os.path.join(data_folder, class_name)\n",
        "        if not os.path.isdir(class_folder):\n",
        "            continue\n",
        "        for file_name in os.listdir(class_folder):\n",
        "            file_path = os.path.join(class_folder, file_name)\n",
        "            image = extract_text_from_image(file_path)\n",
        "            images.append(image)\n",
        "            labels.append(class_label)\n",
        "    vectorizer = TfidfVectorizer()\n",
        "    text_features = vectorizer.fit_transform(images)\n",
        "    return text_features, labels, vectorizer  # Return the vectorizer\n",
        "\n",
        "text_features, labels, vectorizer = extract_text_features(svc_data_folder)  # Now extract the vectorizer"
      ],
      "metadata": {
        "id": "BqZjX3Vq-T--"
      },
      "execution_count": 11,
      "outputs": []
    },
    {
      "cell_type": "code",
      "source": [
        "# Step 4: Model Training for Text Classification\n",
        "text_model = SVC(kernel='linear')\n",
        "text_model.fit(text_features, labels)"
      ],
      "metadata": {
        "colab": {
          "base_uri": "https://localhost:8080/",
          "height": 74
        },
        "id": "a2heb_ouHfB7",
        "outputId": "e7449a62-12fb-4ec8-bbb7-5186114ef838"
      },
      "execution_count": 12,
      "outputs": [
        {
          "output_type": "execute_result",
          "data": {
            "text/plain": [
              "SVC(kernel='linear')"
            ],
            "text/html": [
              "<style>#sk-container-id-1 {color: black;background-color: white;}#sk-container-id-1 pre{padding: 0;}#sk-container-id-1 div.sk-toggleable {background-color: white;}#sk-container-id-1 label.sk-toggleable__label {cursor: pointer;display: block;width: 100%;margin-bottom: 0;padding: 0.3em;box-sizing: border-box;text-align: center;}#sk-container-id-1 label.sk-toggleable__label-arrow:before {content: \"▸\";float: left;margin-right: 0.25em;color: #696969;}#sk-container-id-1 label.sk-toggleable__label-arrow:hover:before {color: black;}#sk-container-id-1 div.sk-estimator:hover label.sk-toggleable__label-arrow:before {color: black;}#sk-container-id-1 div.sk-toggleable__content {max-height: 0;max-width: 0;overflow: hidden;text-align: left;background-color: #f0f8ff;}#sk-container-id-1 div.sk-toggleable__content pre {margin: 0.2em;color: black;border-radius: 0.25em;background-color: #f0f8ff;}#sk-container-id-1 input.sk-toggleable__control:checked~div.sk-toggleable__content {max-height: 200px;max-width: 100%;overflow: auto;}#sk-container-id-1 input.sk-toggleable__control:checked~label.sk-toggleable__label-arrow:before {content: \"▾\";}#sk-container-id-1 div.sk-estimator input.sk-toggleable__control:checked~label.sk-toggleable__label {background-color: #d4ebff;}#sk-container-id-1 div.sk-label input.sk-toggleable__control:checked~label.sk-toggleable__label {background-color: #d4ebff;}#sk-container-id-1 input.sk-hidden--visually {border: 0;clip: rect(1px 1px 1px 1px);clip: rect(1px, 1px, 1px, 1px);height: 1px;margin: -1px;overflow: hidden;padding: 0;position: absolute;width: 1px;}#sk-container-id-1 div.sk-estimator {font-family: monospace;background-color: #f0f8ff;border: 1px dotted black;border-radius: 0.25em;box-sizing: border-box;margin-bottom: 0.5em;}#sk-container-id-1 div.sk-estimator:hover {background-color: #d4ebff;}#sk-container-id-1 div.sk-parallel-item::after {content: \"\";width: 100%;border-bottom: 1px solid gray;flex-grow: 1;}#sk-container-id-1 div.sk-label:hover label.sk-toggleable__label {background-color: #d4ebff;}#sk-container-id-1 div.sk-serial::before {content: \"\";position: absolute;border-left: 1px solid gray;box-sizing: border-box;top: 0;bottom: 0;left: 50%;z-index: 0;}#sk-container-id-1 div.sk-serial {display: flex;flex-direction: column;align-items: center;background-color: white;padding-right: 0.2em;padding-left: 0.2em;position: relative;}#sk-container-id-1 div.sk-item {position: relative;z-index: 1;}#sk-container-id-1 div.sk-parallel {display: flex;align-items: stretch;justify-content: center;background-color: white;position: relative;}#sk-container-id-1 div.sk-item::before, #sk-container-id-1 div.sk-parallel-item::before {content: \"\";position: absolute;border-left: 1px solid gray;box-sizing: border-box;top: 0;bottom: 0;left: 50%;z-index: -1;}#sk-container-id-1 div.sk-parallel-item {display: flex;flex-direction: column;z-index: 1;position: relative;background-color: white;}#sk-container-id-1 div.sk-parallel-item:first-child::after {align-self: flex-end;width: 50%;}#sk-container-id-1 div.sk-parallel-item:last-child::after {align-self: flex-start;width: 50%;}#sk-container-id-1 div.sk-parallel-item:only-child::after {width: 0;}#sk-container-id-1 div.sk-dashed-wrapped {border: 1px dashed gray;margin: 0 0.4em 0.5em 0.4em;box-sizing: border-box;padding-bottom: 0.4em;background-color: white;}#sk-container-id-1 div.sk-label label {font-family: monospace;font-weight: bold;display: inline-block;line-height: 1.2em;}#sk-container-id-1 div.sk-label-container {text-align: center;}#sk-container-id-1 div.sk-container {/* jupyter's `normalize.less` sets `[hidden] { display: none; }` but bootstrap.min.css set `[hidden] { display: none !important; }` so we also need the `!important` here to be able to override the default hidden behavior on the sphinx rendered scikit-learn.org. See: https://github.com/scikit-learn/scikit-learn/issues/21755 */display: inline-block !important;position: relative;}#sk-container-id-1 div.sk-text-repr-fallback {display: none;}</style><div id=\"sk-container-id-1\" class=\"sk-top-container\"><div class=\"sk-text-repr-fallback\"><pre>SVC(kernel=&#x27;linear&#x27;)</pre><b>In a Jupyter environment, please rerun this cell to show the HTML representation or trust the notebook. <br />On GitHub, the HTML representation is unable to render, please try loading this page with nbviewer.org.</b></div><div class=\"sk-container\" hidden><div class=\"sk-item\"><div class=\"sk-estimator sk-toggleable\"><input class=\"sk-toggleable__control sk-hidden--visually\" id=\"sk-estimator-id-1\" type=\"checkbox\" checked><label for=\"sk-estimator-id-1\" class=\"sk-toggleable__label sk-toggleable__label-arrow\">SVC</label><div class=\"sk-toggleable__content\"><pre>SVC(kernel=&#x27;linear&#x27;)</pre></div></div></div></div></div>"
            ]
          },
          "metadata": {},
          "execution_count": 12
        }
      ]
    },
    {
      "cell_type": "code",
      "source": [
        "# Step 5: Model Evaluation for Text Classification\n",
        "text_pred = text_model.predict(text_features)\n",
        "\n",
        "text_accuracy = accuracy_score(labels, text_pred)\n",
        "text_precision = precision_score(labels, text_pred, average='weighted')\n",
        "text_recall = recall_score(labels, text_pred, average='weighted')\n",
        "text_f1_score = f1_score(labels, text_pred, average='weighted')\n",
        "\n",
        "print(\"Text Accuracy:\", text_accuracy)\n",
        "print(\"Text Precision:\", text_precision)\n",
        "print(\"Text Recall:\", text_recall)\n",
        "print(\"Text F1-score:\", text_f1_score)"
      ],
      "metadata": {
        "colab": {
          "base_uri": "https://localhost:8080/"
        },
        "id": "hKz7xlplHfHY",
        "outputId": "89d3abab-a1f3-441d-e286-e778799afcd4"
      },
      "execution_count": 13,
      "outputs": [
        {
          "output_type": "stream",
          "name": "stdout",
          "text": [
            "Text Accuracy: 0.8595617529880478\n",
            "Text Precision: 0.8832312509368989\n",
            "Text Recall: 0.8595617529880478\n",
            "Text F1-score: 0.8572774844387423\n"
          ]
        }
      ]
    },
    {
      "cell_type": "code",
      "source": [
        "\n",
        "text_accuracy = 0.85\n",
        "text_precision = 0.88\n",
        "text_recall = 0.85\n",
        "text_f1_score = 0.85\n",
        "\n",
        "# List of metrics\n",
        "metrics = ['Accuracy', 'Precision', 'Recall', 'F1-score']\n",
        "\n",
        "# List of corresponding metric values\n",
        "metric_values = [text_accuracy, text_precision, text_recall, text_f1_score]\n",
        "\n",
        "# Plotting the bar plot\n",
        "plt.bar(metrics, metric_values, color=['blue', 'green', 'orange', 'red'])\n",
        "plt.xlabel('Metrics')\n",
        "plt.ylabel('Scores')\n",
        "plt.title('text Classification Evaluation Metrics')\n",
        "plt.ylim(0.0, 1.0)\n",
        "plt.show()\n"
      ],
      "metadata": {
        "colab": {
          "base_uri": "https://localhost:8080/",
          "height": 472
        },
        "id": "lcpI7bG8Hojg",
        "outputId": "fc6edecd-105d-4117-a873-2dc1b45fff43"
      },
      "execution_count": 14,
      "outputs": [
        {
          "output_type": "display_data",
          "data": {
            "text/plain": [
              "<Figure size 640x480 with 1 Axes>"
            ],
            "image/png": "[encoded data removed]"
          },
          "metadata": {}
        }
      ]
    },
    {
      "cell_type": "code",
      "source": [
        "# Step 6: Save Text Model and Vectorizer\n",
        "text_model_file = 'text_modell.pkl'\n",
        "joblib.dump(text_model, text_model_file)\n",
        "\n",
        "vectorizer_file = 'vectorizerr.pkl'\n",
        "joblib.dump(vectorizer, vectorizer_file)\n",
        "\n",
        "print(\"Text Model and Vectorizer saved successfully.\")"
      ],
      "metadata": {
        "colab": {
          "base_uri": "https://localhost:8080/"
        },
        "id": "fTyV4rRMHqwH",
        "outputId": "7cd73766-8f1c-48d0-87d3-2391f7ebc9cb"
      },
      "execution_count": 15,
      "outputs": [
        {
          "output_type": "stream",
          "name": "stdout",
          "text": [
            "Text Model and Vectorizer saved successfully.\n"
          ]
        }
      ]
    },
    {
      "cell_type": "code",
      "source": [
        "# Step 7: Load and Preprocess Images for Nature Classification\n",
        "def preprocess_image(image_path):\n",
        "    img = cv2.imread(image_path)\n",
        "    img = cv2.resize(img, (224, 224))  # Resize image to fit CNN model input shape\n",
        "    img = img.astype('float32') / 255.0  # Normalize pixel values to [0, 1]\n",
        "    return img\n"
      ],
      "metadata": {
        "id": "0rU9ZJuRHrAR"
      },
      "execution_count": 16,
      "outputs": []
    },
    {
      "cell_type": "code",
      "source": [
        "def load_images(data_folder):\n",
        "    images = []\n",
        "    labels = []\n",
        "    for class_label, class_name in enumerate(os.listdir(data_folder)):\n",
        "        class_folder = os.path.join(data_folder, class_name)\n",
        "        if not os.path.isdir(class_folder):\n",
        "            continue\n",
        "        for file_name in os.listdir(class_folder):\n",
        "            file_path = os.path.join(class_folder, file_name)\n",
        "            image = preprocess_image(file_path)\n",
        "            images.append(image)\n",
        "            labels.append(class_label)\n",
        "    return np.array(images), np.array(labels)\n",
        "\n",
        "all_images, all_labels = load_images(cnn_data_folder)"
      ],
      "metadata": {
        "id": "5cVk1hzeIROp"
      },
      "execution_count": 17,
      "outputs": []
    },
    {
      "cell_type": "code",
      "source": [
        "# Step 8: Model Training for Nature Classification\n",
        "nature_model = Sequential()\n",
        "nature_model.add(Conv2D(32, (3, 3), activation='relu', input_shape=(224, 224, 3)))\n",
        "nature_model.add(MaxPooling2D((2, 2)))\n",
        "nature_model.add(Conv2D(64, (3, 3), activation='relu'))\n",
        "nature_model.add(MaxPooling2D((2, 2)))\n",
        "nature_model.add(Conv2D(128, (3, 3), activation='relu'))\n",
        "nature_model.add(MaxPooling2D((2, 2)))\n",
        "nature_model.add(Flatten())\n",
        "nature_model.add(Dense(128, activation='relu'))\n",
        "nature_model.add(Dense(len(set(all_labels)), activation='softmax'))\n",
        "# Print the model summary\n",
        "nature_model.summary()"
      ],
      "metadata": {
        "colab": {
          "base_uri": "https://localhost:8080/"
        },
        "id": "iLOAVXhIIVHI",
        "outputId": "f18d6e47-6ed0-4053-ff25-cfc88690e96f"
      },
      "execution_count": 18,
      "outputs": [
        {
          "output_type": "stream",
          "name": "stdout",
          "text": [
            "Model: \"sequential\"\n",
            "_________________________________________________________________\n",
            " Layer (type)                Output Shape              Param #   \n",
            "=================================================================\n",
            " conv2d (Conv2D)             (None, 222, 222, 32)      896       \n",
            "                                                                 \n",
            " max_pooling2d (MaxPooling2D  (None, 111, 111, 32)     0         \n",
            " )                                                               \n",
            "                                                                 \n",
            " conv2d_1 (Conv2D)           (None, 109, 109, 64)      18496     \n",
            "                                                                 \n",
            " max_pooling2d_1 (MaxPooling  (None, 54, 54, 64)       0         \n",
            " 2D)                                                             \n",
            "                                                                 \n",
            " conv2d_2 (Conv2D)           (None, 52, 52, 128)       73856     \n",
            "                                                                 \n",
            " max_pooling2d_2 (MaxPooling  (None, 26, 26, 128)      0         \n",
            " 2D)                                                             \n",
            "                                                                 \n",
            " flatten (Flatten)           (None, 86528)             0         \n",
            "                                                                 \n",
            " dense (Dense)               (None, 128)               11075712  \n",
            "                                                                 \n",
            " dense_1 (Dense)             (None, 2)                 258       \n",
            "                                                                 \n",
            "=================================================================\n",
            "Total params: 11,169,218\n",
            "Trainable params: 11,169,218\n",
            "Non-trainable params: 0\n",
            "_________________________________________________________________\n"
          ]
        }
      ]
    },
    {
      "cell_type": "code",
      "source": [
        "nature_model.compile(optimizer='adam', loss='sparse_categorical_crossentropy', metrics=['accuracy'])\n",
        "nature_model.fit(all_images, all_labels, epochs=200, batch_size=32)"
      ],
      "metadata": {
        "colab": {
          "base_uri": "https://localhost:8080/"
        },
        "id": "FkK0mXqPIV5S",
        "outputId": "b4e8fc04-a40a-45f6-acfd-59892e635d8c"
      },
      "execution_count": 19,
      "outputs": [
        {
          "output_type": "stream",
          "name": "stdout",
          "text": [
            "Epoch 1/200\n",
            "63/63 [==============================] - 17s 55ms/step - loss: 0.8542 - accuracy: 0.5615\n",
            "Epoch 2/200\n",
            "63/63 [==============================] - 3s 46ms/step - loss: 0.5433 - accuracy: 0.7295\n",
            "Epoch 3/200\n",
            "63/63 [==============================] - 3s 46ms/step - loss: 0.4817 - accuracy: 0.7750\n",
            "Epoch 4/200\n",
            "63/63 [==============================] - 3s 50ms/step - loss: 0.3489 - accuracy: 0.8525\n",
            "Epoch 5/200\n",
            "63/63 [==============================] - 3s 52ms/step - loss: 0.2575 - accuracy: 0.8985\n",
            "Epoch 6/200\n",
            "63/63 [==============================] - 3s 49ms/step - loss: 0.2112 - accuracy: 0.9135\n",
            "Epoch 7/200\n",
            "63/63 [==============================] - 3s 46ms/step - loss: 0.1691 - accuracy: 0.9375\n",
            "Epoch 8/200\n",
            "63/63 [==============================] - 3s 49ms/step - loss: 0.1280 - accuracy: 0.9600\n",
            "Epoch 9/200\n",
            "63/63 [==============================] - 3s 51ms/step - loss: 0.1203 - accuracy: 0.9630\n",
            "Epoch 10/200\n",
            "63/63 [==============================] - 3s 48ms/step - loss: 0.0923 - accuracy: 0.9740\n",
            "Epoch 11/200\n",
            "63/63 [==============================] - 3s 46ms/step - loss: 0.0798 - accuracy: 0.9765\n",
            "Epoch 12/200\n",
            "63/63 [==============================] - 3s 47ms/step - loss: 0.0761 - accuracy: 0.9770\n",
            "Epoch 13/200\n",
            "63/63 [==============================] - 3s 46ms/step - loss: 0.0657 - accuracy: 0.9800\n",
            "Epoch 14/200\n",
            "63/63 [==============================] - 4s 58ms/step - loss: 0.0648 - accuracy: 0.9785\n",
            "Epoch 15/200\n",
            "63/63 [==============================] - 3s 48ms/step - loss: 0.0550 - accuracy: 0.9815\n",
            "Epoch 16/200\n",
            "63/63 [==============================] - 3s 46ms/step - loss: 0.0546 - accuracy: 0.9815\n",
            "Epoch 17/200\n",
            "63/63 [==============================] - 3s 46ms/step - loss: 0.0584 - accuracy: 0.9795\n",
            "Epoch 18/200\n",
            "63/63 [==============================] - 3s 48ms/step - loss: 0.0604 - accuracy: 0.9785\n",
            "Epoch 19/200\n",
            "63/63 [==============================] - 3s 51ms/step - loss: 0.0728 - accuracy: 0.9755\n",
            "Epoch 20/200\n",
            "63/63 [==============================] - 3s 48ms/step - loss: 0.0826 - accuracy: 0.9715\n",
            "Epoch 21/200\n",
            "63/63 [==============================] - 3s 47ms/step - loss: 0.0676 - accuracy: 0.9785\n",
            "Epoch 22/200\n",
            "63/63 [==============================] - 3s 47ms/step - loss: 0.0614 - accuracy: 0.9810\n",
            "Epoch 23/200\n",
            "63/63 [==============================] - 3s 49ms/step - loss: 0.0474 - accuracy: 0.9805\n",
            "Epoch 24/200\n",
            "63/63 [==============================] - 3s 53ms/step - loss: 0.0494 - accuracy: 0.9830\n",
            "Epoch 25/200\n",
            "63/63 [==============================] - 3s 47ms/step - loss: 0.0439 - accuracy: 0.9840\n",
            "Epoch 26/200\n",
            "63/63 [==============================] - 3s 47ms/step - loss: 0.0408 - accuracy: 0.9800\n",
            "Epoch 27/200\n",
            "63/63 [==============================] - 3s 46ms/step - loss: 0.0392 - accuracy: 0.9835\n",
            "Epoch 28/200\n",
            "63/63 [==============================] - 3s 50ms/step - loss: 0.0322 - accuracy: 0.9860\n",
            "Epoch 29/200\n",
            "63/63 [==============================] - 3s 52ms/step - loss: 0.0388 - accuracy: 0.9815\n",
            "Epoch 30/200\n",
            "63/63 [==============================] - 3s 47ms/step - loss: 0.0386 - accuracy: 0.9840\n",
            "Epoch 31/200\n",
            "63/63 [==============================] - 3s 47ms/step - loss: 0.0338 - accuracy: 0.9820\n",
            "Epoch 32/200\n",
            "63/63 [==============================] - 3s 47ms/step - loss: 0.0335 - accuracy: 0.9840\n",
            "Epoch 33/200\n",
            "63/63 [==============================] - 3s 50ms/step - loss: 0.0345 - accuracy: 0.9825\n",
            "Epoch 34/200\n",
            "63/63 [==============================] - 3s 50ms/step - loss: 0.0360 - accuracy: 0.9840\n",
            "Epoch 35/200\n",
            "63/63 [==============================] - 3s 47ms/step - loss: 0.0325 - accuracy: 0.9835\n",
            "Epoch 36/200\n",
            "63/63 [==============================] - 3s 47ms/step - loss: 0.0356 - accuracy: 0.9845\n",
            "Epoch 37/200\n",
            "63/63 [==============================] - 3s 47ms/step - loss: 0.0335 - accuracy: 0.9845\n",
            "Epoch 38/200\n",
            "63/63 [==============================] - 3s 51ms/step - loss: 0.0310 - accuracy: 0.9845\n",
            "Epoch 39/200\n",
            "63/63 [==============================] - 3s 50ms/step - loss: 0.0318 - accuracy: 0.9840\n",
            "Epoch 40/200\n",
            "63/63 [==============================] - 3s 47ms/step - loss: 0.0356 - accuracy: 0.9835\n",
            "Epoch 41/200\n",
            "63/63 [==============================] - 3s 47ms/step - loss: 0.0330 - accuracy: 0.9835\n",
            "Epoch 42/200\n",
            "63/63 [==============================] - 3s 47ms/step - loss: 0.0311 - accuracy: 0.9845\n",
            "Epoch 43/200\n",
            "63/63 [==============================] - 3s 52ms/step - loss: 0.0301 - accuracy: 0.9840\n",
            "Epoch 44/200\n",
            "63/63 [==============================] - 3s 48ms/step - loss: 0.0268 - accuracy: 0.9840\n",
            "Epoch 45/200\n",
            "63/63 [==============================] - 3s 47ms/step - loss: 0.0276 - accuracy: 0.9855\n",
            "Epoch 46/200\n",
            "63/63 [==============================] - 3s 47ms/step - loss: 0.0273 - accuracy: 0.9845\n",
            "Epoch 47/200\n",
            "63/63 [==============================] - 3s 48ms/step - loss: 0.0272 - accuracy: 0.9845\n",
            "Epoch 48/200\n",
            "63/63 [==============================] - 3s 51ms/step - loss: 0.0286 - accuracy: 0.9845\n",
            "Epoch 49/200\n",
            "63/63 [==============================] - 3s 48ms/step - loss: 0.0290 - accuracy: 0.9855\n",
            "Epoch 50/200\n",
            "63/63 [==============================] - 3s 47ms/step - loss: 0.0309 - accuracy: 0.9835\n",
            "Epoch 51/200\n",
            "63/63 [==============================] - 3s 47ms/step - loss: 0.0317 - accuracy: 0.9840\n",
            "Epoch 52/200\n",
            "63/63 [==============================] - 3s 49ms/step - loss: 0.0294 - accuracy: 0.9850\n",
            "Epoch 53/200\n",
            "63/63 [==============================] - 3s 51ms/step - loss: 0.0260 - accuracy: 0.9860\n",
            "Epoch 54/200\n",
            "63/63 [==============================] - 3s 47ms/step - loss: 0.0259 - accuracy: 0.9855\n",
            "Epoch 55/200\n",
            "63/63 [==============================] - 3s 47ms/step - loss: 0.0275 - accuracy: 0.9865\n",
            "Epoch 56/200\n",
            "63/63 [==============================] - 3s 46ms/step - loss: 0.0260 - accuracy: 0.9850\n",
            "Epoch 57/200\n",
            "63/63 [==============================] - 3s 50ms/step - loss: 0.0286 - accuracy: 0.9850\n",
            "Epoch 58/200\n",
            "63/63 [==============================] - 3s 50ms/step - loss: 0.0268 - accuracy: 0.9870\n",
            "Epoch 59/200\n",
            "63/63 [==============================] - 3s 47ms/step - loss: 0.0304 - accuracy: 0.9850\n",
            "Epoch 60/200\n",
            "63/63 [==============================] - 3s 46ms/step - loss: 0.0287 - accuracy: 0.9870\n",
            "Epoch 61/200\n",
            "63/63 [==============================] - 3s 47ms/step - loss: 0.0253 - accuracy: 0.9850\n",
            "Epoch 62/200\n",
            "63/63 [==============================] - 3s 52ms/step - loss: 0.0227 - accuracy: 0.9865\n",
            "Epoch 63/200\n",
            "63/63 [==============================] - 3s 51ms/step - loss: 0.0248 - accuracy: 0.9870\n",
            "Epoch 64/200\n",
            "63/63 [==============================] - 3s 46ms/step - loss: 0.0242 - accuracy: 0.9870\n",
            "Epoch 65/200\n",
            "63/63 [==============================] - 3s 46ms/step - loss: 0.0259 - accuracy: 0.9850\n",
            "Epoch 66/200\n",
            "63/63 [==============================] - 3s 46ms/step - loss: 0.0225 - accuracy: 0.9865\n",
            "Epoch 67/200\n",
            "63/63 [==============================] - 3s 54ms/step - loss: 0.0258 - accuracy: 0.9840\n",
            "Epoch 68/200\n",
            "63/63 [==============================] - 3s 49ms/step - loss: 0.0279 - accuracy: 0.9865\n",
            "Epoch 69/200\n",
            "63/63 [==============================] - 3s 47ms/step - loss: 0.0630 - accuracy: 0.9785\n",
            "Epoch 70/200\n",
            "63/63 [==============================] - 3s 46ms/step - loss: 0.1226 - accuracy: 0.9600\n",
            "Epoch 71/200\n",
            "63/63 [==============================] - 3s 47ms/step - loss: 0.0686 - accuracy: 0.9710\n",
            "Epoch 72/200\n",
            "63/63 [==============================] - 3s 52ms/step - loss: 0.0292 - accuracy: 0.9855\n",
            "Epoch 73/200\n",
            "63/63 [==============================] - 3s 47ms/step - loss: 0.0255 - accuracy: 0.9865\n",
            "Epoch 74/200\n",
            "63/63 [==============================] - 3s 46ms/step - loss: 0.0255 - accuracy: 0.9850\n",
            "Epoch 75/200\n",
            "63/63 [==============================] - 3s 46ms/step - loss: 0.0236 - accuracy: 0.9845\n",
            "Epoch 76/200\n",
            "63/63 [==============================] - 3s 48ms/step - loss: 0.0229 - accuracy: 0.9865\n",
            "Epoch 77/200\n",
            "63/63 [==============================] - 3s 52ms/step - loss: 0.0244 - accuracy: 0.9865\n",
            "Epoch 78/200\n",
            "63/63 [==============================] - 3s 47ms/step - loss: 0.0217 - accuracy: 0.9885\n",
            "Epoch 79/200\n",
            "63/63 [==============================] - 3s 47ms/step - loss: 0.0212 - accuracy: 0.9870\n",
            "Epoch 80/200\n",
            "63/63 [==============================] - 3s 47ms/step - loss: 0.0222 - accuracy: 0.9875\n",
            "Epoch 81/200\n",
            "63/63 [==============================] - 3s 50ms/step - loss: 0.0221 - accuracy: 0.9855\n",
            "Epoch 82/200\n",
            "63/63 [==============================] - 3s 52ms/step - loss: 0.0215 - accuracy: 0.9880\n",
            "Epoch 83/200\n",
            "63/63 [==============================] - 3s 46ms/step - loss: 0.0203 - accuracy: 0.9870\n",
            "Epoch 84/200\n",
            "63/63 [==============================] - 3s 46ms/step - loss: 0.0217 - accuracy: 0.9870\n",
            "Epoch 85/200\n",
            "63/63 [==============================] - 3s 47ms/step - loss: 0.0205 - accuracy: 0.9865\n",
            "Epoch 86/200\n",
            "63/63 [==============================] - 3s 49ms/step - loss: 0.0218 - accuracy: 0.9875\n",
            "Epoch 87/200\n",
            "63/63 [==============================] - 3s 50ms/step - loss: 0.0197 - accuracy: 0.9880\n",
            "Epoch 88/200\n",
            "63/63 [==============================] - 3s 47ms/step - loss: 0.0201 - accuracy: 0.9855\n",
            "Epoch 89/200\n",
            "63/63 [==============================] - 3s 46ms/step - loss: 0.0204 - accuracy: 0.9870\n",
            "Epoch 90/200\n",
            "63/63 [==============================] - 3s 46ms/step - loss: 0.0188 - accuracy: 0.9870\n",
            "Epoch 91/200\n",
            "63/63 [==============================] - 3s 51ms/step - loss: 0.0201 - accuracy: 0.9870\n",
            "Epoch 92/200\n",
            "63/63 [==============================] - 3s 49ms/step - loss: 0.0216 - accuracy: 0.9880\n",
            "Epoch 93/200\n",
            "63/63 [==============================] - 3s 47ms/step - loss: 0.0201 - accuracy: 0.9855\n",
            "Epoch 94/200\n",
            "63/63 [==============================] - 3s 46ms/step - loss: 0.0189 - accuracy: 0.9885\n",
            "Epoch 95/200\n",
            "63/63 [==============================] - 3s 46ms/step - loss: 0.0255 - accuracy: 0.9865\n",
            "Epoch 96/200\n",
            "63/63 [==============================] - 3s 51ms/step - loss: 0.0234 - accuracy: 0.9880\n",
            "Epoch 97/200\n",
            "63/63 [==============================] - 3s 49ms/step - loss: 0.0207 - accuracy: 0.9885\n",
            "Epoch 98/200\n",
            "63/63 [==============================] - 3s 47ms/step - loss: 0.0207 - accuracy: 0.9875\n",
            "Epoch 99/200\n",
            "63/63 [==============================] - 3s 46ms/step - loss: 0.0187 - accuracy: 0.9880\n",
            "Epoch 100/200\n",
            "63/63 [==============================] - 3s 47ms/step - loss: 0.0187 - accuracy: 0.9880\n",
            "Epoch 101/200\n",
            "63/63 [==============================] - 3s 51ms/step - loss: 0.0183 - accuracy: 0.9875\n",
            "Epoch 102/200\n",
            "63/63 [==============================] - 3s 48ms/step - loss: 0.0202 - accuracy: 0.9860\n",
            "Epoch 103/200\n",
            "63/63 [==============================] - 3s 46ms/step - loss: 0.0186 - accuracy: 0.9890\n",
            "Epoch 104/200\n",
            "63/63 [==============================] - 3s 46ms/step - loss: 0.0188 - accuracy: 0.9870\n",
            "Epoch 105/200\n",
            "63/63 [==============================] - 3s 48ms/step - loss: 0.0228 - accuracy: 0.9875\n",
            "Epoch 106/200\n",
            "63/63 [==============================] - 3s 52ms/step - loss: 0.0207 - accuracy: 0.9885\n",
            "Epoch 107/200\n",
            "63/63 [==============================] - 3s 47ms/step - loss: 0.0219 - accuracy: 0.9885\n",
            "Epoch 108/200\n",
            "63/63 [==============================] - 3s 46ms/step - loss: 0.0196 - accuracy: 0.9880\n",
            "Epoch 109/200\n",
            "63/63 [==============================] - 3s 46ms/step - loss: 0.0188 - accuracy: 0.9865\n",
            "Epoch 110/200\n",
            "63/63 [==============================] - 3s 49ms/step - loss: 0.0182 - accuracy: 0.9880\n",
            "Epoch 111/200\n",
            "63/63 [==============================] - 3s 51ms/step - loss: 0.0192 - accuracy: 0.9870\n",
            "Epoch 112/200\n",
            "63/63 [==============================] - 3s 46ms/step - loss: 0.0205 - accuracy: 0.9880\n",
            "Epoch 113/200\n",
            "63/63 [==============================] - 3s 47ms/step - loss: 0.0192 - accuracy: 0.9875\n",
            "Epoch 114/200\n",
            "63/63 [==============================] - 3s 47ms/step - loss: 0.0185 - accuracy: 0.9880\n",
            "Epoch 115/200\n",
            "63/63 [==============================] - 3s 50ms/step - loss: 0.0184 - accuracy: 0.9875\n",
            "Epoch 116/200\n",
            "63/63 [==============================] - 3s 50ms/step - loss: 0.0181 - accuracy: 0.9880\n",
            "Epoch 117/200\n",
            "63/63 [==============================] - 3s 46ms/step - loss: 0.0183 - accuracy: 0.9870\n",
            "Epoch 118/200\n",
            "63/63 [==============================] - 3s 47ms/step - loss: 0.0181 - accuracy: 0.9890\n",
            "Epoch 119/200\n",
            "63/63 [==============================] - 3s 46ms/step - loss: 0.0184 - accuracy: 0.9880\n",
            "Epoch 120/200\n",
            "63/63 [==============================] - 3s 51ms/step - loss: 0.0190 - accuracy: 0.9870\n",
            "Epoch 121/200\n",
            "63/63 [==============================] - 3s 50ms/step - loss: 0.0860 - accuracy: 0.9720\n",
            "Epoch 122/200\n",
            "63/63 [==============================] - 3s 46ms/step - loss: 0.0751 - accuracy: 0.9725\n",
            "Epoch 123/200\n",
            "63/63 [==============================] - 3s 46ms/step - loss: 0.0781 - accuracy: 0.9720\n",
            "Epoch 124/200\n",
            "63/63 [==============================] - 3s 46ms/step - loss: 0.0454 - accuracy: 0.9810\n",
            "Epoch 125/200\n",
            "63/63 [==============================] - 3s 51ms/step - loss: 0.0528 - accuracy: 0.9820\n",
            "Epoch 126/200\n",
            "63/63 [==============================] - 3s 49ms/step - loss: 0.0289 - accuracy: 0.9845\n",
            "Epoch 127/200\n",
            "63/63 [==============================] - 3s 46ms/step - loss: 0.0241 - accuracy: 0.9870\n",
            "Epoch 128/200\n",
            "63/63 [==============================] - 3s 46ms/step - loss: 0.0218 - accuracy: 0.9850\n",
            "Epoch 129/200\n",
            "63/63 [==============================] - 3s 47ms/step - loss: 0.0224 - accuracy: 0.9870\n",
            "Epoch 130/200\n",
            "63/63 [==============================] - 3s 51ms/step - loss: 0.0203 - accuracy: 0.9875\n",
            "Epoch 131/200\n",
            "63/63 [==============================] - 3s 49ms/step - loss: 0.0201 - accuracy: 0.9870\n",
            "Epoch 132/200\n",
            "63/63 [==============================] - 3s 47ms/step - loss: 0.0197 - accuracy: 0.9870\n",
            "Epoch 133/200\n",
            "63/63 [==============================] - 3s 47ms/step - loss: 0.0194 - accuracy: 0.9860\n",
            "Epoch 134/200\n",
            "63/63 [==============================] - 3s 46ms/step - loss: 0.0190 - accuracy: 0.9865\n",
            "Epoch 135/200\n",
            "63/63 [==============================] - 3s 50ms/step - loss: 0.0181 - accuracy: 0.9880\n",
            "Epoch 136/200\n",
            "63/63 [==============================] - 3s 48ms/step - loss: 0.0184 - accuracy: 0.9875\n",
            "Epoch 137/200\n",
            "63/63 [==============================] - 3s 47ms/step - loss: 0.0186 - accuracy: 0.9870\n",
            "Epoch 138/200\n",
            "63/63 [==============================] - 3s 46ms/step - loss: 0.0182 - accuracy: 0.9875\n",
            "Epoch 139/200\n",
            "63/63 [==============================] - 3s 47ms/step - loss: 0.0177 - accuracy: 0.9880\n",
            "Epoch 140/200\n",
            "63/63 [==============================] - 3s 52ms/step - loss: 0.0189 - accuracy: 0.9860\n",
            "Epoch 141/200\n",
            "63/63 [==============================] - 3s 48ms/step - loss: 0.0181 - accuracy: 0.9880\n",
            "Epoch 142/200\n",
            "63/63 [==============================] - 3s 46ms/step - loss: 0.0173 - accuracy: 0.9885\n",
            "Epoch 143/200\n",
            "63/63 [==============================] - 3s 46ms/step - loss: 0.0175 - accuracy: 0.9890\n",
            "Epoch 144/200\n",
            "63/63 [==============================] - 3s 48ms/step - loss: 0.0182 - accuracy: 0.9880\n",
            "Epoch 145/200\n",
            "63/63 [==============================] - 3s 52ms/step - loss: 0.0176 - accuracy: 0.9895\n",
            "Epoch 146/200\n",
            "63/63 [==============================] - 3s 47ms/step - loss: 0.0170 - accuracy: 0.9875\n",
            "Epoch 147/200\n",
            "63/63 [==============================] - 3s 46ms/step - loss: 0.0178 - accuracy: 0.9895\n",
            "Epoch 148/200\n",
            "63/63 [==============================] - 3s 46ms/step - loss: 0.0174 - accuracy: 0.9895\n",
            "Epoch 149/200\n",
            "63/63 [==============================] - 3s 48ms/step - loss: 0.0181 - accuracy: 0.9875\n",
            "Epoch 150/200\n",
            "63/63 [==============================] - 3s 52ms/step - loss: 0.0173 - accuracy: 0.9875\n",
            "Epoch 151/200\n",
            "63/63 [==============================] - 3s 47ms/step - loss: 0.0168 - accuracy: 0.9895\n",
            "Epoch 152/200\n",
            "63/63 [==============================] - 3s 46ms/step - loss: 0.0169 - accuracy: 0.9895\n",
            "Epoch 153/200\n",
            "63/63 [==============================] - 3s 46ms/step - loss: 0.0170 - accuracy: 0.9870\n",
            "Epoch 154/200\n",
            "63/63 [==============================] - 3s 50ms/step - loss: 0.0165 - accuracy: 0.9890\n",
            "Epoch 155/200\n",
            "63/63 [==============================] - 3s 51ms/step - loss: 0.0164 - accuracy: 0.9880\n",
            "Epoch 156/200\n",
            "63/63 [==============================] - 3s 46ms/step - loss: 0.0169 - accuracy: 0.9880\n",
            "Epoch 157/200\n",
            "63/63 [==============================] - 3s 46ms/step - loss: 0.0175 - accuracy: 0.9885\n",
            "Epoch 158/200\n",
            "63/63 [==============================] - 3s 47ms/step - loss: 0.0203 - accuracy: 0.9880\n",
            "Epoch 159/200\n",
            "63/63 [==============================] - 3s 50ms/step - loss: 0.0179 - accuracy: 0.9860\n",
            "Epoch 160/200\n",
            "63/63 [==============================] - 3s 50ms/step - loss: 0.0186 - accuracy: 0.9880\n",
            "Epoch 161/200\n",
            "63/63 [==============================] - 3s 46ms/step - loss: 0.0182 - accuracy: 0.9895\n",
            "Epoch 162/200\n",
            "63/63 [==============================] - 3s 46ms/step - loss: 0.0165 - accuracy: 0.9885\n",
            "Epoch 163/200\n",
            "63/63 [==============================] - 3s 47ms/step - loss: 0.0188 - accuracy: 0.9880\n",
            "Epoch 164/200\n",
            "63/63 [==============================] - 3s 51ms/step - loss: 0.0352 - accuracy: 0.9875\n",
            "Epoch 165/200\n",
            "63/63 [==============================] - 3s 49ms/step - loss: 0.0582 - accuracy: 0.9770\n",
            "Epoch 166/200\n",
            "63/63 [==============================] - 3s 46ms/step - loss: 0.0931 - accuracy: 0.9685\n",
            "Epoch 167/200\n",
            "63/63 [==============================] - 3s 46ms/step - loss: 0.0263 - accuracy: 0.9865\n",
            "Epoch 168/200\n",
            "63/63 [==============================] - 3s 47ms/step - loss: 0.0201 - accuracy: 0.9865\n",
            "Epoch 169/200\n",
            "63/63 [==============================] - 3s 52ms/step - loss: 0.0212 - accuracy: 0.9870\n",
            "Epoch 170/200\n",
            "63/63 [==============================] - 3s 49ms/step - loss: 0.0174 - accuracy: 0.9875\n",
            "Epoch 171/200\n",
            "63/63 [==============================] - 3s 46ms/step - loss: 0.0166 - accuracy: 0.9900\n",
            "Epoch 172/200\n",
            "63/63 [==============================] - 3s 46ms/step - loss: 0.0166 - accuracy: 0.9885\n",
            "Epoch 173/200\n",
            "63/63 [==============================] - 3s 47ms/step - loss: 0.0164 - accuracy: 0.9900\n",
            "Epoch 174/200\n",
            "63/63 [==============================] - 3s 51ms/step - loss: 0.0158 - accuracy: 0.9905\n",
            "Epoch 175/200\n",
            "63/63 [==============================] - 3s 48ms/step - loss: 0.0167 - accuracy: 0.9895\n",
            "Epoch 176/200\n",
            "63/63 [==============================] - 3s 46ms/step - loss: 0.0156 - accuracy: 0.9905\n",
            "Epoch 177/200\n",
            "63/63 [==============================] - 3s 46ms/step - loss: 0.0159 - accuracy: 0.9885\n",
            "Epoch 178/200\n",
            "63/63 [==============================] - 3s 47ms/step - loss: 0.0160 - accuracy: 0.9900\n",
            "Epoch 179/200\n",
            "63/63 [==============================] - 3s 51ms/step - loss: 0.0164 - accuracy: 0.9890\n",
            "Epoch 180/200\n",
            "63/63 [==============================] - 3s 48ms/step - loss: 0.0158 - accuracy: 0.9900\n",
            "Epoch 181/200\n",
            "63/63 [==============================] - 3s 47ms/step - loss: 0.0164 - accuracy: 0.9905\n",
            "Epoch 182/200\n",
            "63/63 [==============================] - 3s 46ms/step - loss: 0.0153 - accuracy: 0.9905\n",
            "Epoch 183/200\n",
            "63/63 [==============================] - 3s 48ms/step - loss: 0.0159 - accuracy: 0.9895\n",
            "Epoch 184/200\n",
            "63/63 [==============================] - 3s 52ms/step - loss: 0.0153 - accuracy: 0.9885\n",
            "Epoch 185/200\n",
            "63/63 [==============================] - 3s 47ms/step - loss: 0.0150 - accuracy: 0.9915\n",
            "Epoch 186/200\n",
            "63/63 [==============================] - 3s 46ms/step - loss: 0.0168 - accuracy: 0.9885\n",
            "Epoch 187/200\n",
            "63/63 [==============================] - 3s 46ms/step - loss: 0.0156 - accuracy: 0.9895\n",
            "Epoch 188/200\n",
            "63/63 [==============================] - 3s 48ms/step - loss: 0.0149 - accuracy: 0.9910\n",
            "Epoch 189/200\n",
            "63/63 [==============================] - 3s 52ms/step - loss: 0.0149 - accuracy: 0.9905\n",
            "Epoch 190/200\n",
            "63/63 [==============================] - 3s 47ms/step - loss: 0.0149 - accuracy: 0.9900\n",
            "Epoch 191/200\n",
            "63/63 [==============================] - 3s 46ms/step - loss: 0.0147 - accuracy: 0.9900\n",
            "Epoch 192/200\n",
            "63/63 [==============================] - 3s 46ms/step - loss: 0.0149 - accuracy: 0.9895\n",
            "Epoch 193/200\n",
            "63/63 [==============================] - 3s 49ms/step - loss: 0.0147 - accuracy: 0.9905\n",
            "Epoch 194/200\n",
            "63/63 [==============================] - 3s 50ms/step - loss: 0.0147 - accuracy: 0.9900\n",
            "Epoch 195/200\n",
            "63/63 [==============================] - 3s 46ms/step - loss: 0.0149 - accuracy: 0.9900\n",
            "Epoch 196/200\n",
            "63/63 [==============================] - 3s 46ms/step - loss: 0.0146 - accuracy: 0.9910\n",
            "Epoch 197/200\n",
            "63/63 [==============================] - 3s 46ms/step - loss: 0.0748 - accuracy: 0.9765\n",
            "Epoch 198/200\n",
            "63/63 [==============================] - 3s 50ms/step - loss: 0.0307 - accuracy: 0.9865\n",
            "Epoch 199/200\n",
            "63/63 [==============================] - 3s 51ms/step - loss: 0.0360 - accuracy: 0.9875\n",
            "Epoch 200/200\n",
            "63/63 [==============================] - 3s 46ms/step - loss: 0.0237 - accuracy: 0.9885\n"
          ]
        },
        {
          "output_type": "execute_result",
          "data": {
            "text/plain": [
              "<keras.callbacks.History at 0x79fa14036b00>"
            ]
          },
          "metadata": {},
          "execution_count": 19
        }
      ]
    },
    {
      "cell_type": "code",
      "source": [
        "# Step 9: Model Evaluation for Nature Classification\n",
        "nature_pred = np.argmax(nature_model.predict(all_images), axis=-1)\n",
        "\n",
        "nature_accuracy = accuracy_score(all_labels, nature_pred)\n",
        "nature_precision = precision_score(all_labels, nature_pred, average='weighted')\n",
        "nature_recall = recall_score(all_labels, nature_pred, average='weighted')\n",
        "nature_f1_score = f1_score(all_labels, nature_pred, average='weighted')\n",
        "\n",
        "print(\"Nature Accuracy:\", nature_accuracy)\n",
        "print(\"Nature Precision:\", nature_precision)\n",
        "print(\"Nature Recall:\", nature_recall)\n",
        "print(\"Nature F1-score:\", nature_f1_score)\n"
      ],
      "metadata": {
        "colab": {
          "base_uri": "https://localhost:8080/"
        },
        "id": "F0fVYq7SIZal",
        "outputId": "6fe6963c-c5b2-42ff-81fe-785f3d5cfc4e"
      },
      "execution_count": 20,
      "outputs": [
        {
          "output_type": "stream",
          "name": "stdout",
          "text": [
            "63/63 [==============================] - 1s 18ms/step\n",
            "Nature Accuracy: 0.9915\n",
            "Nature Precision: 0.9915004915004916\n",
            "Nature Recall: 0.9915\n",
            "Nature F1-score: 0.9914999978749995\n"
          ]
        }
      ]
    },
    {
      "cell_type": "code",
      "source": [
        "# Step 10: Save Nature Model\n",
        "\n",
        "nature_model_file = 'nature_model300.h5'\n",
        "nature_model.save(nature_model_file)\n",
        "print(\"Nature Model saved successfully.\")"
      ],
      "metadata": {
        "colab": {
          "base_uri": "https://localhost:8080/"
        },
        "id": "0T3ufEM7IdlF",
        "outputId": "f946acc2-8a30-4586-9a29-58ef8b7de74a"
      },
      "execution_count": 21,
      "outputs": [
        {
          "output_type": "stream",
          "name": "stdout",
          "text": [
            "Nature Model saved successfully.\n"
          ]
        }
      ]
    },
    {
      "cell_type": "code",
      "source": [
        "# Step 9: Model Evaluation for Nature Classification\n",
        "nature_pred = np.argmax(nature_model.predict(all_images), axis=-1)\n",
        "\n",
        "nature_accuracy = accuracy_score(all_labels, nature_pred)\n",
        "nature_precision = precision_score(all_labels, nature_pred, average='weighted')\n",
        "nature_recall = recall_score(all_labels, nature_pred, average='weighted')\n",
        "nature_f1_score = f1_score(all_labels, nature_pred, average='weighted')\n",
        "\n",
        "# Print the evaluation metrics\n",
        "print(\"Nature Accuracy:\", nature_accuracy)\n",
        "print(\"Nature Precision:\", nature_precision)\n",
        "print(\"Nature Recall:\", nature_recall)\n",
        "print(\"Nature F1-score:\", nature_f1_score)\n",
        "\n",
        "# Visualize the evaluation metrics\n",
        "metrics = ['Accuracy', 'Precision', 'Recall', 'F1-score']\n",
        "metric_values = [nature_accuracy, nature_precision, nature_recall, nature_f1_score]\n",
        "\n",
        "# Plotting the bar plot\n",
        "plt.bar(metrics, metric_values, color=['blue', 'green', 'orange', 'red'])\n",
        "plt.xlabel('Metrics')\n",
        "plt.ylabel('Scores')\n",
        "plt.title('Nature Classification Evaluation Metrics')\n",
        "plt.ylim(0.0, 1.0)\n",
        "plt.show()\n"
      ],
      "metadata": {
        "colab": {
          "base_uri": "https://localhost:8080/",
          "height": 559
        },
        "id": "zW2kihhprIcQ",
        "outputId": "6ebb8d43-cd80-4210-d291-2b4cda68ce4c"
      },
      "execution_count": 23,
      "outputs": [
        {
          "output_type": "stream",
          "name": "stdout",
          "text": [
            "63/63 [==============================] - 1s 18ms/step\n",
            "Nature Accuracy: 0.9915\n",
            "Nature Precision: 0.9915004915004916\n",
            "Nature Recall: 0.9915\n",
            "Nature F1-score: 0.9914999978749995\n"
          ]
        },
        {
          "output_type": "display_data",
          "data": {
            "text/plain": [
              "<Figure size 640x480 with 1 Axes>"
            ],
            "image/png": "[encoded data removed]"
          },
          "metadata": {}
        }
      ]
    }
  ]
}