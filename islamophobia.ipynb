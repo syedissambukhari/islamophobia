{
 "cells": [
  {
   "cell_type": "code",
   "execution_count": 2,
   "id": "7f1099cb",
   "metadata": {},
   "outputs": [
    {
     "name": "stdout",
     "output_type": "stream",
     "text": [
      "Collecting pytesseract\n",
      "  Downloading pytesseract-0.3.10-py3-none-any.whl (14 kB)\n",
      "Requirement already satisfied: Pillow>=8.0.0 in c:\\users\\syed issam bukhari\\anaconda3\\lib\\site-packages (from pytesseract) (9.5.0)\n",
      "Requirement already satisfied: packaging>=21.3 in c:\\users\\syed issam bukhari\\anaconda3\\lib\\site-packages (from pytesseract) (22.0)\n",
      "Installing collected packages: pytesseract\n",
      "Successfully installed pytesseract-0.3.10\n",
      "Note: you may need to restart the kernel to use updated packages.\n"
     ]
    }
   ],
   "source": [
    "pip install pytesseract"
   ]
  },
  {
   "cell_type": "code",
   "execution_count": 1,
   "id": "d67e5d16",
   "metadata": {},
   "outputs": [],
   "source": [
    "import os\n",
    "import cv2\n",
    "import pytesseract\n",
    "import numpy as np\n",
    "from sklearn.feature_extraction.text import TfidfVectorizer\n",
    "from sklearn.svm import SVC\n",
    "from sklearn.metrics import accuracy_score, precision_score, recall_score, f1_score\n",
    "import joblib\n",
    "from tensorflow.keras.models import Sequential\n",
    "from tensorflow.keras.layers import Conv2D, MaxPooling2D, Flatten, Dense\n",
    "import tensorflow.keras as keras"
   ]
  },
  {
   "cell_type": "code",
   "execution_count": null,
   "id": "e65e03e1",
   "metadata": {},
   "outputs": [],
   "source": []
  },
  {
   "cell_type": "code",
   "execution_count": 2,
   "id": "f4fe036e",
   "metadata": {},
   "outputs": [],
   "source": [
    "# Step 1: Data Preparation\n",
    "data_folder = 'C:/Users/Syed Issam Bukhari/Documents/projects all/projects/islamop/Memes'  # Root folder containing all the image folders\n",
    "# Step 1: Data Preparation\n",
    "#islamophobic_text_folder = 'C:/Users/Syed Issam Bukhari/Documents/projects all/projects/islamop/Memes/islamophobic text'\n",
    "#not_islamophobic_text_folder = 'C:/Users/Syed Issam Bukhari/Documents/projects all/projects/islamop/Memes/Non islamophobic text'\n",
    "#islamophobic_nature_folder = 'C:/Users/Syed Issam Bukhari/Documents/projects all/projects/islamop/Memes/Islamophobic image'\n",
    "#not_islamophobic_nature_folder = 'C:/Users/Syed Issam Bukhari/Documents/projects all/projects/islamop/Memes/Non Islamophobic image'"
   ]
  },
  {
   "cell_type": "code",
   "execution_count": 3,
   "id": "449d5de7",
   "metadata": {},
   "outputs": [],
   "source": [
    "# Step 2: Text Detection\n",
    "def extract_text_from_image(image_path):\n",
    "    img = cv2.imread(image_path)\n",
    "    gray = cv2.cvtColor(img, cv2.COLOR_BGR2GRAY)\n",
    "    text = pytesseract.image_to_string(gray)\n",
    "    return text"
   ]
  },
  {
   "cell_type": "code",
   "execution_count": 4,
   "id": "10cbf61d",
   "metadata": {},
   "outputs": [],
   "source": [
    "# Step 3: Feature Extraction for Text Classification\n",
    "def extract_text_features(data_folder):\n",
    "    images = []\n",
    "    labels = []\n",
    "    for class_label, class_name in enumerate(os.listdir(data_folder)):\n",
    "        class_folder = os.path.join(data_folder, class_name)\n",
    "        if not os.path.isdir(class_folder):\n",
    "            continue\n",
    "        for file_name in os.listdir(class_folder):\n",
    "            file_path = os.path.join(class_folder, file_name)\n",
    "            image = extract_text_from_image(file_path)\n",
    "            images.append(image)\n",
    "            labels.append(class_label)\n",
    "    vectorizer = TfidfVectorizer()\n",
    "    text_features = vectorizer.fit_transform(images)\n",
    "    return text_features, labels\n",
    "\n",
    "text_features, labels = extract_text_features(data_folder)"
   ]
  },
  {
   "cell_type": "code",
   "execution_count": 6,
   "id": "92ac3eac",
   "metadata": {},
   "outputs": [
    {
     "data": {
      "text/html": [
       "<style>#sk-container-id-1 {color: black;background-color: white;}#sk-container-id-1 pre{padding: 0;}#sk-container-id-1 div.sk-toggleable {background-color: white;}#sk-container-id-1 label.sk-toggleable__label {cursor: pointer;display: block;width: 100%;margin-bottom: 0;padding: 0.3em;box-sizing: border-box;text-align: center;}#sk-container-id-1 label.sk-toggleable__label-arrow:before {content: \"▸\";float: left;margin-right: 0.25em;color: #696969;}#sk-container-id-1 label.sk-toggleable__label-arrow:hover:before {color: black;}#sk-container-id-1 div.sk-estimator:hover label.sk-toggleable__label-arrow:before {color: black;}#sk-container-id-1 div.sk-toggleable__content {max-height: 0;max-width: 0;overflow: hidden;text-align: left;background-color: #f0f8ff;}#sk-container-id-1 div.sk-toggleable__content pre {margin: 0.2em;color: black;border-radius: 0.25em;background-color: #f0f8ff;}#sk-container-id-1 input.sk-toggleable__control:checked~div.sk-toggleable__content {max-height: 200px;max-width: 100%;overflow: auto;}#sk-container-id-1 input.sk-toggleable__control:checked~label.sk-toggleable__label-arrow:before {content: \"▾\";}#sk-container-id-1 div.sk-estimator input.sk-toggleable__control:checked~label.sk-toggleable__label {background-color: #d4ebff;}#sk-container-id-1 div.sk-label input.sk-toggleable__control:checked~label.sk-toggleable__label {background-color: #d4ebff;}#sk-container-id-1 input.sk-hidden--visually {border: 0;clip: rect(1px 1px 1px 1px);clip: rect(1px, 1px, 1px, 1px);height: 1px;margin: -1px;overflow: hidden;padding: 0;position: absolute;width: 1px;}#sk-container-id-1 div.sk-estimator {font-family: monospace;background-color: #f0f8ff;border: 1px dotted black;border-radius: 0.25em;box-sizing: border-box;margin-bottom: 0.5em;}#sk-container-id-1 div.sk-estimator:hover {background-color: #d4ebff;}#sk-container-id-1 div.sk-parallel-item::after {content: \"\";width: 100%;border-bottom: 1px solid gray;flex-grow: 1;}#sk-container-id-1 div.sk-label:hover label.sk-toggleable__label {background-color: #d4ebff;}#sk-container-id-1 div.sk-serial::before {content: \"\";position: absolute;border-left: 1px solid gray;box-sizing: border-box;top: 0;bottom: 0;left: 50%;z-index: 0;}#sk-container-id-1 div.sk-serial {display: flex;flex-direction: column;align-items: center;background-color: white;padding-right: 0.2em;padding-left: 0.2em;position: relative;}#sk-container-id-1 div.sk-item {position: relative;z-index: 1;}#sk-container-id-1 div.sk-parallel {display: flex;align-items: stretch;justify-content: center;background-color: white;position: relative;}#sk-container-id-1 div.sk-item::before, #sk-container-id-1 div.sk-parallel-item::before {content: \"\";position: absolute;border-left: 1px solid gray;box-sizing: border-box;top: 0;bottom: 0;left: 50%;z-index: -1;}#sk-container-id-1 div.sk-parallel-item {display: flex;flex-direction: column;z-index: 1;position: relative;background-color: white;}#sk-container-id-1 div.sk-parallel-item:first-child::after {align-self: flex-end;width: 50%;}#sk-container-id-1 div.sk-parallel-item:last-child::after {align-self: flex-start;width: 50%;}#sk-container-id-1 div.sk-parallel-item:only-child::after {width: 0;}#sk-container-id-1 div.sk-dashed-wrapped {border: 1px dashed gray;margin: 0 0.4em 0.5em 0.4em;box-sizing: border-box;padding-bottom: 0.4em;background-color: white;}#sk-container-id-1 div.sk-label label {font-family: monospace;font-weight: bold;display: inline-block;line-height: 1.2em;}#sk-container-id-1 div.sk-label-container {text-align: center;}#sk-container-id-1 div.sk-container {/* jupyter's `normalize.less` sets `[hidden] { display: none; }` but bootstrap.min.css set `[hidden] { display: none !important; }` so we also need the `!important` here to be able to override the default hidden behavior on the sphinx rendered scikit-learn.org. See: https://github.com/scikit-learn/scikit-learn/issues/21755 */display: inline-block !important;position: relative;}#sk-container-id-1 div.sk-text-repr-fallback {display: none;}</style><div id=\"sk-container-id-1\" class=\"sk-top-container\"><div class=\"sk-text-repr-fallback\"><pre>SVC(kernel=&#x27;linear&#x27;)</pre><b>In a Jupyter environment, please rerun this cell to show the HTML representation or trust the notebook. <br />On GitHub, the HTML representation is unable to render, please try loading this page with nbviewer.org.</b></div><div class=\"sk-container\" hidden><div class=\"sk-item\"><div class=\"sk-estimator sk-toggleable\"><input class=\"sk-toggleable__control sk-hidden--visually\" id=\"sk-estimator-id-1\" type=\"checkbox\" checked><label for=\"sk-estimator-id-1\" class=\"sk-toggleable__label sk-toggleable__label-arrow\">SVC</label><div class=\"sk-toggleable__content\"><pre>SVC(kernel=&#x27;linear&#x27;)</pre></div></div></div></div></div>"
      ],
      "text/plain": [
       "SVC(kernel='linear')"
      ]
     },
     "execution_count": 6,
     "metadata": {},
     "output_type": "execute_result"
    }
   ],
   "source": [
    "# Step 4: Model Training for Text Classification\n",
    "text_model = SVC(kernel='linear')\n",
    "text_model.fit(text_features, labels)\n"
   ]
  },
  {
   "cell_type": "code",
   "execution_count": 7,
   "id": "0db86b64",
   "metadata": {},
   "outputs": [
    {
     "name": "stdout",
     "output_type": "stream",
     "text": [
      "Text Accuracy: 0.42925\n",
      "Text Precision: 0.45541389663364085\n",
      "Text Recall: 0.42925\n",
      "Text F1-score: 0.4233844220830174\n"
     ]
    }
   ],
   "source": [
    "# Step 5: Model Evaluation for Text Classification\n",
    "text_pred = text_model.predict(text_features)\n",
    "\n",
    "text_accuracy = accuracy_score(labels, text_pred)\n",
    "text_precision = precision_score(labels, text_pred, average='weighted')\n",
    "text_recall = recall_score(labels, text_pred, average='weighted')\n",
    "text_f1_score = f1_score(labels, text_pred, average='weighted')\n",
    "\n",
    "print(\"Text Accuracy:\", text_accuracy)\n",
    "print(\"Text Precision:\", text_precision)\n",
    "print(\"Text Recall:\", text_recall)\n",
    "print(\"Text F1-score:\", text_f1_score)"
   ]
  },
  {
   "cell_type": "code",
   "execution_count": 9,
   "id": "c36dbc6b",
   "metadata": {},
   "outputs": [
    {
     "name": "stdout",
     "output_type": "stream",
     "text": [
      "Text Model saved successfully.\n"
     ]
    }
   ],
   "source": [
    "# Step 6: Save Text Model\n",
    "text_model_file = 'text_model.pkl'\n",
    "joblib.dump(text_model, text_model_file)\n",
    "print(\"Text Model saved successfully.\")"
   ]
  },
  {
   "cell_type": "code",
   "execution_count": 10,
   "id": "1c3a1dda",
   "metadata": {},
   "outputs": [],
   "source": [
    "# Step 7: Load and Preprocess Images for Nature Classification\n",
    "def preprocess_image(image_path):\n",
    "    img = cv2.imread(image_path)\n",
    "    img = cv2.resize(img, (224, 224))  # Resize image to fit CNN model input shape\n",
    "    img = img.astype('float32') / 255.0  # Normalize pixel values to [0, 1]\n",
    "    return img\n"
   ]
  },
  {
   "cell_type": "code",
   "execution_count": 11,
   "id": "9fb360cd",
   "metadata": {},
   "outputs": [],
   "source": [
    "def load_images(data_folder):\n",
    "    images = []\n",
    "    labels = []\n",
    "    for class_label, class_name in enumerate(os.listdir(data_folder)):\n",
    "        class_folder = os.path.join(data_folder, class_name)\n",
    "        if not os.path.isdir(class_folder):\n",
    "            continue\n",
    "        for file_name in os.listdir(class_folder):\n",
    "            file_path = os.path.join(class_folder, file_name)\n",
    "            image = preprocess_image(file_path)\n",
    "            images.append(image)\n",
    "            labels.append(class_label)\n",
    "    return np.array(images), np.array(labels)\n",
    "\n",
    "all_images, all_labels = load_images(data_folder)"
   ]
  },
  {
   "cell_type": "code",
   "execution_count": 13,
   "id": "e7cdd2eb",
   "metadata": {},
   "outputs": [
    {
     "name": "stdout",
     "output_type": "stream",
     "text": [
      "Model: \"sequential_2\"\n",
      "_________________________________________________________________\n",
      " Layer (type)                Output Shape              Param #   \n",
      "=================================================================\n",
      " conv2d_6 (Conv2D)           (None, 222, 222, 32)      896       \n",
      "                                                                 \n",
      " max_pooling2d_6 (MaxPooling  (None, 111, 111, 32)     0         \n",
      " 2D)                                                             \n",
      "                                                                 \n",
      " conv2d_7 (Conv2D)           (None, 109, 109, 64)      18496     \n",
      "                                                                 \n",
      " max_pooling2d_7 (MaxPooling  (None, 54, 54, 64)       0         \n",
      " 2D)                                                             \n",
      "                                                                 \n",
      " conv2d_8 (Conv2D)           (None, 52, 52, 128)       73856     \n",
      "                                                                 \n",
      " max_pooling2d_8 (MaxPooling  (None, 26, 26, 128)      0         \n",
      " 2D)                                                             \n",
      "                                                                 \n",
      " flatten_2 (Flatten)         (None, 86528)             0         \n",
      "                                                                 \n",
      " dense_3 (Dense)             (None, 128)               11075712  \n",
      "                                                                 \n",
      " dense_4 (Dense)             (None, 4)                 516       \n",
      "                                                                 \n",
      "=================================================================\n",
      "Total params: 11,169,476\n",
      "Trainable params: 11,169,476\n",
      "Non-trainable params: 0\n",
      "_________________________________________________________________\n"
     ]
    }
   ],
   "source": [
    "# Step 8: Model Training for Nature Classification\n",
    "nature_model = Sequential()\n",
    "nature_model.add(Conv2D(32, (3, 3), activation='relu', input_shape=(224, 224, 3)))\n",
    "nature_model.add(MaxPooling2D((2, 2)))\n",
    "nature_model.add(Conv2D(64, (3, 3), activation='relu'))\n",
    "nature_model.add(MaxPooling2D((2, 2)))\n",
    "nature_model.add(Conv2D(128, (3, 3), activation='relu'))\n",
    "nature_model.add(MaxPooling2D((2, 2)))\n",
    "nature_model.add(Flatten())\n",
    "nature_model.add(Dense(128, activation='relu'))\n",
    "nature_model.add(Dense(len(set(all_labels)), activation='softmax'))\n",
    "# Print the model summary\n",
    "nature_model.summary()"
   ]
  },
  {
   "cell_type": "code",
   "execution_count": 14,
   "id": "281e758a",
   "metadata": {},
   "outputs": [
    {
     "name": "stdout",
     "output_type": "stream",
     "text": [
      "Epoch 1/10\n",
      "125/125 [==============================] - 240s 2s/step - loss: 1.4533 - accuracy: 0.2950\n",
      "Epoch 2/10\n",
      "125/125 [==============================] - 229s 2s/step - loss: 1.2037 - accuracy: 0.3390\n",
      "Epoch 3/10\n",
      "125/125 [==============================] - 244s 2s/step - loss: 1.0403 - accuracy: 0.3880\n",
      "Epoch 4/10\n",
      "125/125 [==============================] - 254s 2s/step - loss: 0.8947 - accuracy: 0.4327\n",
      "Epoch 5/10\n",
      "125/125 [==============================] - 265s 2s/step - loss: 0.8255 - accuracy: 0.4618\n",
      "Epoch 6/10\n",
      "125/125 [==============================] - 243s 2s/step - loss: 0.7874 - accuracy: 0.4650\n",
      "Epoch 7/10\n",
      "125/125 [==============================] - 246s 2s/step - loss: 0.7779 - accuracy: 0.4818\n",
      "Epoch 8/10\n",
      "125/125 [==============================] - 238s 2s/step - loss: 0.7546 - accuracy: 0.4670\n",
      "Epoch 9/10\n",
      "125/125 [==============================] - 252s 2s/step - loss: 0.7524 - accuracy: 0.4655\n",
      "Epoch 10/10\n",
      "125/125 [==============================] - 238s 2s/step - loss: 0.7467 - accuracy: 0.4827\n"
     ]
    },
    {
     "data": {
      "text/plain": [
       "<keras.callbacks.History at 0x173dad12560>"
      ]
     },
     "execution_count": 14,
     "metadata": {},
     "output_type": "execute_result"
    }
   ],
   "source": [
    "nature_model.compile(optimizer='adam', loss='sparse_categorical_crossentropy', metrics=['accuracy'])\n",
    "nature_model.fit(all_images, all_labels, epochs=10, batch_size=32)"
   ]
  },
  {
   "cell_type": "code",
   "execution_count": 15,
   "id": "b3b76d45",
   "metadata": {},
   "outputs": [
    {
     "name": "stdout",
     "output_type": "stream",
     "text": [
      "125/125 [==============================] - 67s 532ms/step\n",
      "Nature Accuracy: 0.4915\n",
      "Nature Precision: 0.4946508407171669\n",
      "Nature Recall: 0.4915\n",
      "Nature F1-score: 0.3775933200754689\n"
     ]
    }
   ],
   "source": [
    "# Step 9: Model Evaluation for Nature Classification\n",
    "nature_pred = np.argmax(nature_model.predict(all_images), axis=-1)\n",
    "\n",
    "nature_accuracy = accuracy_score(all_labels, nature_pred)\n",
    "nature_precision = precision_score(all_labels, nature_pred, average='weighted')\n",
    "nature_recall = recall_score(all_labels, nature_pred, average='weighted')\n",
    "nature_f1_score = f1_score(all_labels, nature_pred, average='weighted')\n",
    "\n",
    "print(\"Nature Accuracy:\", nature_accuracy)\n",
    "print(\"Nature Precision:\", nature_precision)\n",
    "print(\"Nature Recall:\", nature_recall)\n",
    "print(\"Nature F1-score:\", nature_f1_score)\n"
   ]
  },
  {
   "cell_type": "code",
   "execution_count": 17,
   "id": "2244826a",
   "metadata": {},
   "outputs": [
    {
     "name": "stdout",
     "output_type": "stream",
     "text": [
      "Nature Model saved successfully.\n"
     ]
    }
   ],
   "source": [
    "# Step 10: Save Nature Model\n",
    "\n",
    "nature_model_file = 'nature_model.h5'\n",
    "nature_model.save(nature_model_file)\n",
    "print(\"Nature Model saved successfully.\")"
   ]
  }
 ],
 "metadata": {
  "kernelspec": {
   "display_name": "Python 3 (ipykernel)",
   "language": "python",
   "name": "python3"
  },
  "language_info": {
   "codemirror_mode": {
    "name": "ipython",
    "version": 3
   },
   "file_extension": ".py",
   "mimetype": "text/x-python",
   "name": "python",
   "nbconvert_exporter": "python",
   "pygments_lexer": "ipython3",
   "version": "3.10.9"
  }
 },
 "nbformat": 4,
 "nbformat_minor": 5
}
