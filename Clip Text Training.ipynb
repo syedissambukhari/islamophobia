{
 "cells": [
  {
   "cell_type": "code",
   "execution_count": 14,
   "id": "28ab6207",
   "metadata": {},
   "outputs": [],
   "source": [
    "import os\n",
    "import cv2\n",
    "import numpy as np\n",
    "import torch\n",
    "import clip\n",
    "from sklearn.metrics import accuracy_score, precision_score, recall_score, f1_score\n",
    "from torch.utils.data import Dataset, DataLoader\n",
    "from torchvision import transforms"
   ]
  },
  {
   "cell_type": "code",
   "execution_count": 15,
   "id": "11204401",
   "metadata": {},
   "outputs": [],
   "source": [
    "# Load the CLIP model and tokenizer\n",
    "device = \"cuda\" if torch.cuda.is_available() else \"cpu\"\n",
    "model, preprocess = clip.load(\"ViT-B/32\", device)"
   ]
  },
  {
   "cell_type": "code",
   "execution_count": 17,
   "id": "441e377b",
   "metadata": {},
   "outputs": [],
   "source": [
    "# Step 1: Load and Preprocess Image Data for Text Extraction\n",
    "class ImageTextDataset(Dataset):\n",
    "    def __init__(self, data_folder, transform=None):\n",
    "        self.data_folder = data_folder\n",
    "        self.transform = transform\n",
    "        self.images, self.labels = self.load_images()\n",
    "\n",
    "    def load_images(self):\n",
    "        images = []\n",
    "        labels = []\n",
    "        for class_label, class_name in enumerate(os.listdir(self.data_folder)):\n",
    "            class_folder = os.path.join(self.data_folder, class_name)\n",
    "            if not os.path.isdir(class_folder):\n",
    "                continue\n",
    "            for file_name in os.listdir(class_folder):\n",
    "                file_path = os.path.join(class_folder, file_name)\n",
    "                image = cv2.imread(file_path)\n",
    "                images.append(image)\n",
    "                labels.append(class_label)\n",
    "        return images, labels\n",
    "\n",
    "    def __len__(self):\n",
    "        return len(self.images)\n",
    "\n",
    "    def __getitem__(self, index):\n",
    "        image = self.images[index]\n",
    "        label = self.labels[index]\n",
    "        if self.transform:\n",
    "            image = self.transform(image)\n",
    "        return image, label"
   ]
  },
  {
   "cell_type": "code",
   "execution_count": 23,
   "id": "eedfb659",
   "metadata": {},
   "outputs": [],
   "source": [
    "# Define the transformation to preprocess images for the CLIP model\n",
    "target_size = (224, 224)  # Specify the target size for images\n",
    "transform = transforms.Compose([\n",
    "    transforms.ToPILImage(),\n",
    "    transforms.Resize(target_size),\n",
    "    transforms.ToTensor(),\n",
    "    transforms.Normalize(mean=[0.5, 0.5, 0.5], std=[0.5, 0.5, 0.5])\n",
    "])"
   ]
  },
  {
   "cell_type": "code",
   "execution_count": 24,
   "id": "d0c6e0a3",
   "metadata": {},
   "outputs": [],
   "source": [
    "# Step 2: Extract Text from Images and Perform Text Classification\n",
    "image_text_data_folder = \"text-dataset\"  # Change this to your dataset folder\n",
    "image_text_dataset = ImageTextDataset(image_text_data_folder, transform=transform)"
   ]
  },
  {
   "cell_type": "code",
   "execution_count": 25,
   "id": "733f5ea4",
   "metadata": {},
   "outputs": [],
   "source": [
    "# Prepare DataLoader\n",
    "batch_size = 32\n",
    "image_text_loader = DataLoader(image_text_dataset, batch_size=batch_size, shuffle=True)"
   ]
  },
  {
   "cell_type": "code",
   "execution_count": 26,
   "id": "42e0dae0",
   "metadata": {},
   "outputs": [],
   "source": [
    "# Step 3: Text Classification using CLIP\n",
    "classifier_head = torch.nn.Linear(model.text_projection.shape[1], len(set(image_text_dataset.labels))).to(device)\n",
    "\n",
    "num_epochs = 10\n",
    "optimizer = torch.optim.Adam(classifier_head.parameters(), lr=1e-4)\n",
    "criterion = torch.nn.CrossEntropyLoss()\n",
    "\n",
    "for epoch in range(num_epochs):\n",
    "    classifier_head.train()\n",
    "    for images, labels in image_text_loader:\n",
    "        images = images.to(device)\n",
    "        labels = labels.to(device)\n",
    "\n",
    "        with torch.no_grad():\n",
    "            text_features = model.encode_image(images)\n",
    "\n",
    "        optimizer.zero_grad()\n",
    "        logits = classifier_head(text_features)\n",
    "        loss = criterion(logits, labels.long())\n",
    "        loss.backward()\n",
    "        optimizer.step()\n"
   ]
  },
  {
   "cell_type": "code",
   "execution_count": 27,
   "id": "53a2b89c",
   "metadata": {},
   "outputs": [
    {
     "name": "stdout",
     "output_type": "stream",
     "text": [
      "Text Accuracy: 0.802\n",
      "Text Precision: 0.8021740522540983\n",
      "Text Recall: 0.802\n",
      "Text F1-score: 0.8019714838936808\n"
     ]
    }
   ],
   "source": [
    "# Step 4: Evaluate the Text Classification Model\n",
    "text_pred = []\n",
    "text_labels = []\n",
    "classifier_head.eval()\n",
    "\n",
    "with torch.no_grad():\n",
    "    for images, labels in image_text_loader:\n",
    "        images = images.to(device)\n",
    "        labels = labels.to(device)\n",
    "\n",
    "        text_features = model.encode_image(images)\n",
    "        logits = classifier_head(text_features)\n",
    "        pred = logits.argmax(dim=-1).cpu().numpy()\n",
    "        text_pred.extend(pred)\n",
    "        text_labels.extend(labels.cpu().numpy())\n",
    "\n",
    "text_accuracy = accuracy_score(text_labels, text_pred)\n",
    "text_precision = precision_score(text_labels, text_pred, average=\"weighted\")\n",
    "text_recall = recall_score(text_labels, text_pred, average=\"weighted\")\n",
    "text_f1_score = f1_score(text_labels, text_pred, average=\"weighted\")\n",
    "\n",
    "print(\"Text Accuracy:\", text_accuracy)\n",
    "print(\"Text Precision:\", text_precision)\n",
    "print(\"Text Recall:\", text_recall)\n",
    "print(\"Text F1-score:\", text_f1_score)"
   ]
  },
  {
   "cell_type": "code",
   "execution_count": 28,
   "id": "dd833773",
   "metadata": {},
   "outputs": [
    {
     "name": "stdout",
     "output_type": "stream",
     "text": [
      "Text Classification Model saved successfully.\n"
     ]
    }
   ],
   "source": [
    "# Step 5: Save Text Classification Model\n",
    "text_model_file = \"text_model.pt\"\n",
    "torch.save(classifier_head.state_dict(), text_model_file)\n",
    "print(\"Text Classification Model saved successfully.\")"
   ]
  },
  {
   "cell_type": "code",
   "execution_count": null,
   "id": "d8f99b5f",
   "metadata": {},
   "outputs": [],
   "source": []
  }
 ],
 "metadata": {
  "kernelspec": {
   "display_name": "Python 3 (ipykernel)",
   "language": "python",
   "name": "python3"
  },
  "language_info": {
   "codemirror_mode": {
    "name": "ipython",
    "version": 3
   },
   "file_extension": ".py",
   "mimetype": "text/x-python",
   "name": "python",
   "nbconvert_exporter": "python",
   "pygments_lexer": "ipython3",
   "version": "3.10.9"
  }
 },
 "nbformat": 4,
 "nbformat_minor": 5
}
